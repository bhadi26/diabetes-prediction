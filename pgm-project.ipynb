{
 "cells": [
  {
   "cell_type": "markdown",
   "id": "e5ea849d",
   "metadata": {},
   "source": [
    "# Diabetes Prediction - Bayesian Network"
   ]
  },
  {
   "cell_type": "markdown",
   "id": "d85064ee",
   "metadata": {},
   "source": [
    "Rebecca Hadi <br>\n",
    "Probabilistic Graphic Models 625.692 <br>\n",
    "Johns Hopkins Whiting School of Engineering"
   ]
  },
  {
   "cell_type": "markdown",
   "id": "9d628f69",
   "metadata": {},
   "source": [
    "# Table of Contents <br>\n",
    "1. Imports and Helper Functions <br>\n",
    "2. Data Inspection and Prepartion <br>\n",
    "2a. Zero Value Features <br> \n",
    "2a.i. Impute based on distribution <br>\n",
    "2b. Exploration of Features <br>\n",
    "2c. Discretize Features <br> \n",
    "2d. Training & Test Split <br>\n",
    "3. Bayesian Network <br>\n",
    "3a. Construct Networks <br>\n",
    "3b. Plot Bayesian Networks <br>\n",
    "3c. Bayesian Network Training and Evaluation <br>\n",
    "3d. Explore Conditional Probability Distributions and Node Cardinality <br>\n",
    "4. Naive Bayes <br> \n",
    "5. Bayesian Inference <br>\n",
    "5a. Variable Elimination (Naive Bayes) <br>\n",
    "5b. Variable Elimination (Best Performing Bayes Net: Outcome Hierarchical Model)\n",
    "6. Markov Network <br> \n",
    "6a. Construct the Markov Network <br>\n",
    "6b. Convert to a Bayesian Model <br>\n",
    "6c. Create Junction Tree <br>\n",
    "7. Inference using Belief Propagation <br>\n",
    "8. Markov Chain Monte Carlo (MCMC) <br>\n",
    "8a. Logistic Regression (for MCMC) <br>\n",
    "8b. Initial Values for MCMC will be from Logistic Regression Model <br>"
   ]
  },
  {
   "cell_type": "code",
   "execution_count": 116,
   "id": "a2757a4f",
   "metadata": {},
   "outputs": [
    {
     "data": {
      "text/plain": [
       "{'No Dependency Model-normal-test': (0.639457256805965, 0.31111111111111106),\n",
       " 'No Dependency Model-normal-train': (0.9992502624081572, 0.9736842105263158),\n",
       " 'No Dependency Model-over-test': (0.6485470085470086, 0.2826086956521739),\n",
       " 'No Dependency Model-over-train': (0.9995056449432125, 0.9869375907111756),\n",
       " 'Hierarchical Model-normal-test': (0.6695994637171108, 0.5508982035928144),\n",
       " 'Hierarchical Model-normal-train': (0.9419990899438798, 0.7968337730870712),\n",
       " 'Hierarchical Model-over-test': (0.6865027678280691, 0.5930232558139534),\n",
       " 'Hierarchical Model-over-train': (0.9486941503099173, 0.8765603328710124),\n",
       " 'Outcome Hierarchical Model-normal-test': (0.6208898239052517,\n",
       "  0.5207100591715976),\n",
       " 'Outcome Hierarchical Model-normal-train': (0.9777190213101814,\n",
       "  0.8587257617728532),\n",
       " 'Outcome Hierarchical Model-over-test': (0.6355762824783477,\n",
       "  0.5568181818181818),\n",
       " 'Outcome Hierarchical Model-over-train': (0.9756861870788743,\n",
       "  0.9150684931506848),\n",
       " 'Pregnancy Hierarchical Model-normal-test': (0.6538713373710918,\n",
       "  0.3047619047619048),\n",
       " 'Pregnancy Hierarchical Model-normal-train': (0.9942254082039028,\n",
       "  0.9217391304347826),\n",
       " 'Pregnancy Hierarchical Model-over-test': (0.6383454208129533,\n",
       "  0.2626262626262626),\n",
       " 'Pregnancy Hierarchical Model-over-train': (0.995021551004043,\n",
       "  0.9566473988439307),\n",
       " 'Naive Bayes-normal-test': (0.8255036261079773, 0.6744186046511628),\n",
       " 'Naive Bayes-normal-train': (0.7999289926214073, 0.6174142480211081),\n",
       " 'Naive Bayes-over-test': (0.780441998602376, 0.5775401069518717),\n",
       " 'Naive Bayes-over-train': (0.8255604956957714, 0.7637906647807639)}"
      ]
     },
     "execution_count": 116,
     "metadata": {},
     "output_type": "execute_result"
    }
   ],
   "source": [
    "results_dict"
   ]
  },
  {
   "cell_type": "markdown",
   "id": "1be9dfda",
   "metadata": {},
   "source": [
    "# 1. Imports and Helper Functions"
   ]
  },
  {
   "cell_type": "code",
   "execution_count": null,
   "id": "60e5ee6a",
   "metadata": {},
   "outputs": [],
   "source": [
    "import pandas as pd\n",
    "import numpy as np\n",
    "import matplotlib.pyplot as plt \n",
    "import pgmpy \n",
    "from scipy.stats import ttest_ind\n",
    "from pgmpy.models import BayesianNetwork\n",
    "from pgmpy.factors.discrete import TabularCPD\n",
    "import networkx as nx\n",
    "import pylab as plt\n",
    "import sklearn\n",
    "from sklearn.model_selection import train_test_split\n",
    "import pgmpy\n",
    "import imblearn\n",
    "from imblearn.over_sampling import RandomOverSampler\n",
    "from sklearn.metrics import roc_auc_score\n",
    "from sklearn.metrics import f1_score\n",
    "from pgmpy.metrics import log_likelihood_score\n",
    "from pgmpy.models import NaiveBayes\n",
    "from pgmpy.models import JunctionTree\n",
    "from pgmpy.inference import VariableElimination\n",
    "from pgmpy.models import MarkovNetwork\n",
    "from pgmpy.inference import BeliefPropagation\n",
    "from sklearn.linear_model import LogisticRegression\n",
    "import scipy\n",
    "import statsmodels.api as sm "
   ]
  },
  {
   "cell_type": "markdown",
   "id": "e5d4939f",
   "metadata": {},
   "source": [
    "#### Helper Functions"
   ]
  },
  {
   "cell_type": "code",
   "execution_count": 2,
   "id": "bbc1ddd1",
   "metadata": {},
   "outputs": [],
   "source": [
    "def compare_features(df, response, feature, bins, save_fig):\n",
    "    '''\n",
    "    for a continuous feature, compare the distribution between the positive and negative classes \n",
    "    returns a plot and results of t-test for statistical significance\n",
    "    '''\n",
    "    # filter out nulls and filter on class \n",
    "    positive_class = df[df[response] ==1][feature]\n",
    "    negative_class = df[df[response] ==0][feature]\n",
    "    \n",
    "    # filter out nulls\n",
    "    positive_class = positive_class[positive_class.isna() == False]\n",
    "    negative_class = negative_class[negative_class.isna() == False]\n",
    "\n",
    "    # histogram \n",
    "    plt.subplots(tight_layout=True)\n",
    "    plt.hist(positive_class, bins, alpha=0.5, label='positive_class')\n",
    "    plt.hist(negative_class, bins, alpha=0.5, label='negative_class')\n",
    "    plt.legend(loc='upper right')\n",
    "    plt.title(f\"Comparison of {feature} for {response}\")\n",
    "\n",
    "    if save_fig == 1: \n",
    "        plt.savefig(f'project/project-results/histogram-comparing-{feature}-by{response}',format = 'png')\n",
    "    else: \n",
    "        pass \n",
    "    plt.show()\n",
    "    \n",
    "    # t test \n",
    "    results = ttest_ind(positive_class, negative_class)\n",
    "    print(f\"{feature}\\n {results}\")\n",
    "    if results[1] < 0.05: \n",
    "        print(\"Difference is statistically significant at alpha = 0.05\")\n",
    "    else: \n",
    "        print(\"Result is not statistically significant at alpha = 0.05\")"
   ]
  },
  {
   "cell_type": "code",
   "execution_count": 3,
   "id": "5508733f",
   "metadata": {},
   "outputs": [],
   "source": [
    "def plot_network(model, model_name):\n",
    "    '''Function used to plot Bayesian Networks'''\n",
    "    pos = nx.shell_layout(model)\n",
    "    nx.draw(model, node_color='#00b4d9', pos=pos, with_labels=True) \n",
    "    plt.title(f\"Bayesian Network Model: {model_name}\")\n",
    "    plt.savefig(f\"figs/{model_name}_network.png\")\n",
    "    plt.show()"
   ]
  },
  {
   "cell_type": "code",
   "execution_count": 16,
   "id": "06de3de2",
   "metadata": {},
   "outputs": [],
   "source": [
    "def split_and_sample(df, continuous_features):\n",
    "    '''Input df, get back train test split and also over sampled train'''\n",
    "    X_train, X_test, y_train, y_test = train_test_split(df[continuous_features], df['Outcome'], test_size = 0.3)\n",
    "    oversample = RandomOverSampler(sampling_strategy='minority')\n",
    "    X_over, y_over = oversample.fit_resample(X_train, y_train) # set to be used in model training \n",
    "    return X_train, X_over, X_test,  y_train, y_over, y_test"
   ]
  },
  {
   "cell_type": "code",
   "execution_count": 7,
   "id": "a9bf5678",
   "metadata": {},
   "outputs": [],
   "source": [
    "def fit_model(X,y, model_name, model):\n",
    "    y_df = pd.DataFrame(y, columns=['Outcome'])\n",
    "    df_temp = pd.concat([X, y_df],axis=1)\n",
    "    if model_name == 'Naive Bayes':\n",
    "        model.fit(df_temp,'Outcome')\n",
    "    else:\n",
    "        model.fit(df_temp)\n",
    "    return model"
   ]
  },
  {
   "cell_type": "code",
   "execution_count": 56,
   "id": "4fa01c6b",
   "metadata": {},
   "outputs": [],
   "source": [
    "def evaluate_model(X, y, model):\n",
    "    y_prob = model.predict_probability(X)['Outcome_1']\n",
    "    y_pred = model.predict(X)\n",
    "    roc_score = roc_auc_score(y, y_prob)\n",
    "    f1_score_ = f1_score(y, y_pred, zero_division=1)\n",
    "    return roc_score, f1_score_"
   ]
  },
  {
   "cell_type": "code",
   "execution_count": 41,
   "id": "e54712ea",
   "metadata": {},
   "outputs": [],
   "source": [
    "def train_test_network(df, results_dict, continuous_features, model, model_name, sample_type):\n",
    "    '''\n",
    "    Input data frame, features, model, and model name. \n",
    "    Get back ROC-AUC, F1 scores for sampled and over sampled data\n",
    "    '''\n",
    "    print(\"Splitting Data\")\n",
    "    X_train, X_over, X_test, y_train, y_over, y_test = split_and_sample(df, continuous_features)\n",
    "    \n",
    "    \n",
    "    if sample_type == 'normal':\n",
    "        print(\"Fitting Model\")\n",
    "        model = fit_model(X_train, y_train, model_name, model)\n",
    "        print(\"Evaluating test\")\n",
    "        roc_score, f1_score_ = evaluate_model(X_test, y_test, model)\n",
    "        print(\"Evaluating train\")\n",
    "        roc_score_train, f1_score_train = evaluate_model(X_train, y_train, model)\n",
    "    \n",
    "    elif sample_type == 'over':\n",
    "        print(\"Fitting Model\")\n",
    "        model = fit_model(X_over, y_over, model_name, model)\n",
    "        print(\"Evaluating test\")\n",
    "        roc_score, f1_score_ = evaluate_model(X_test, y_test, model)\n",
    "        print(\"Evaluating train\")\n",
    "        roc_score_train, f1_score_train = evaluate_model(X_over, y_over, model)\n",
    "\n",
    "    print(\"Add Results to dict\")\n",
    "\n",
    "    results_dict[model_name+'-'+sample_type+'-test'] = (roc_score,f1_score_)\n",
    "    results_dict[model_name+'-'+sample_type+'-train'] = (roc_score_train,f1_score_train)\n",
    "\n",
    "    print(f'''\n",
    "    {model_name}: {sample_type} \\n \n",
    "    Train: \\n\n",
    "    ROC: {roc_score_train}  F1: {f1_score_train}\n",
    "    Test: \n",
    "    ROC: {roc_score}  F1: {f1_score_}\n",
    "    ''')\n",
    "\n"
   ]
  },
  {
   "cell_type": "code",
   "execution_count": 92,
   "id": "d9a724e3",
   "metadata": {},
   "outputs": [],
   "source": [
    "def estimate_posterior(model, evidence):\n",
    "    infer = VariableElimination(model)\n",
    "    posterior_p = infer.query([\"Outcome\"], evidence=evidence)\n",
    "    print(posterior_p)"
   ]
  },
  {
   "cell_type": "code",
   "execution_count": 105,
   "id": "676dfc20",
   "metadata": {},
   "outputs": [],
   "source": [
    "def plot_network_markov(model, model_name):\n",
    "    pos = nx.shell_layout(model)\n",
    "    nx.draw(model, node_color='#00b4d9', pos=pos, with_labels=True) \n",
    "    plt.title(f\"Markov Network Model: {model_name}\")\n",
    "    plt.savefig(f\"figs/{model_name}_network.png\")\n",
    "    plt.show()"
   ]
  },
  {
   "cell_type": "code",
   "execution_count": 30,
   "id": "45e2a204",
   "metadata": {},
   "outputs": [],
   "source": [
    "def plot_samples(samples):\n",
    "    plt.subplot(211)\n",
    "    plt.hist(samples, histtype='stepfilled', \n",
    "    color = 'darkred', bins=30, alpha=0.8, density=True);\n",
    "    plt.ylabel('Probability Density')\n",
    "    plt.show()"
   ]
  },
  {
   "cell_type": "code",
   "execution_count": 17,
   "id": "a8761e2a",
   "metadata": {},
   "outputs": [],
   "source": [
    "# Logistic function\n",
    "def logistic(x, beta, alpha=0):\n",
    "    return 1.0 / (1.0 + np.exp(np.dot(beta, x) + alpha))"
   ]
  },
  {
   "cell_type": "markdown",
   "id": "c9ebd860",
   "metadata": {},
   "source": [
    "## 2. Data Inspection and Preparation "
   ]
  },
  {
   "cell_type": "markdown",
   "id": "7885558d",
   "metadata": {},
   "source": [
    "The data for this project is the \"PIMA Indians Diabetes\" prediction data set, found via Kaggle. Full citation of the data set is in the accompanying paper. This data set is limited to females who are above 21, and therefore are not representative of the general population. "
   ]
  },
  {
   "cell_type": "code",
   "execution_count": 4,
   "id": "d350312c",
   "metadata": {},
   "outputs": [],
   "source": [
    "df = pd.read_csv('diabetes.csv')"
   ]
  },
  {
   "cell_type": "code",
   "execution_count": 10,
   "id": "8c6fa654",
   "metadata": {},
   "outputs": [
    {
     "name": "stdout",
     "output_type": "stream",
     "text": [
      "<class 'pandas.core.frame.DataFrame'>\n",
      "RangeIndex: 768 entries, 0 to 767\n",
      "Data columns (total 9 columns):\n",
      " #   Column                    Non-Null Count  Dtype  \n",
      "---  ------                    --------------  -----  \n",
      " 0   Pregnancies               768 non-null    int64  \n",
      " 1   Glucose                   768 non-null    int64  \n",
      " 2   BloodPressure             768 non-null    int64  \n",
      " 3   SkinThickness             768 non-null    int64  \n",
      " 4   Insulin                   768 non-null    int64  \n",
      " 5   BMI                       768 non-null    float64\n",
      " 6   DiabetesPedigreeFunction  768 non-null    float64\n",
      " 7   Age                       768 non-null    int64  \n",
      " 8   Outcome                   768 non-null    int64  \n",
      "dtypes: float64(2), int64(7)\n",
      "memory usage: 54.1 KB\n"
     ]
    }
   ],
   "source": [
    "df.info()"
   ]
  },
  {
   "cell_type": "markdown",
   "id": "36f798f4",
   "metadata": {},
   "source": [
    "There are no misisng values, so we do not need to test for MCAR or MAR. "
   ]
  },
  {
   "cell_type": "code",
   "execution_count": 11,
   "id": "864d790a",
   "metadata": {
    "scrolled": true
   },
   "outputs": [
    {
     "data": {
      "text/html": [
       "<div>\n",
       "<style scoped>\n",
       "    .dataframe tbody tr th:only-of-type {\n",
       "        vertical-align: middle;\n",
       "    }\n",
       "\n",
       "    .dataframe tbody tr th {\n",
       "        vertical-align: top;\n",
       "    }\n",
       "\n",
       "    .dataframe thead th {\n",
       "        text-align: right;\n",
       "    }\n",
       "</style>\n",
       "<table border=\"1\" class=\"dataframe\">\n",
       "  <thead>\n",
       "    <tr style=\"text-align: right;\">\n",
       "      <th></th>\n",
       "      <th>Pregnancies</th>\n",
       "      <th>Glucose</th>\n",
       "      <th>BloodPressure</th>\n",
       "      <th>SkinThickness</th>\n",
       "      <th>Insulin</th>\n",
       "      <th>BMI</th>\n",
       "      <th>DiabetesPedigreeFunction</th>\n",
       "      <th>Age</th>\n",
       "      <th>Outcome</th>\n",
       "    </tr>\n",
       "  </thead>\n",
       "  <tbody>\n",
       "    <tr>\n",
       "      <th>count</th>\n",
       "      <td>768.000000</td>\n",
       "      <td>768.000000</td>\n",
       "      <td>768.000000</td>\n",
       "      <td>768.000000</td>\n",
       "      <td>768.000000</td>\n",
       "      <td>768.000000</td>\n",
       "      <td>768.000000</td>\n",
       "      <td>768.000000</td>\n",
       "      <td>768.000000</td>\n",
       "    </tr>\n",
       "    <tr>\n",
       "      <th>mean</th>\n",
       "      <td>3.845052</td>\n",
       "      <td>120.894531</td>\n",
       "      <td>69.105469</td>\n",
       "      <td>20.536458</td>\n",
       "      <td>79.799479</td>\n",
       "      <td>31.992578</td>\n",
       "      <td>0.471876</td>\n",
       "      <td>33.240885</td>\n",
       "      <td>0.348958</td>\n",
       "    </tr>\n",
       "    <tr>\n",
       "      <th>std</th>\n",
       "      <td>3.369578</td>\n",
       "      <td>31.972618</td>\n",
       "      <td>19.355807</td>\n",
       "      <td>15.952218</td>\n",
       "      <td>115.244002</td>\n",
       "      <td>7.884160</td>\n",
       "      <td>0.331329</td>\n",
       "      <td>11.760232</td>\n",
       "      <td>0.476951</td>\n",
       "    </tr>\n",
       "    <tr>\n",
       "      <th>min</th>\n",
       "      <td>0.000000</td>\n",
       "      <td>0.000000</td>\n",
       "      <td>0.000000</td>\n",
       "      <td>0.000000</td>\n",
       "      <td>0.000000</td>\n",
       "      <td>0.000000</td>\n",
       "      <td>0.078000</td>\n",
       "      <td>21.000000</td>\n",
       "      <td>0.000000</td>\n",
       "    </tr>\n",
       "    <tr>\n",
       "      <th>25%</th>\n",
       "      <td>1.000000</td>\n",
       "      <td>99.000000</td>\n",
       "      <td>62.000000</td>\n",
       "      <td>0.000000</td>\n",
       "      <td>0.000000</td>\n",
       "      <td>27.300000</td>\n",
       "      <td>0.243750</td>\n",
       "      <td>24.000000</td>\n",
       "      <td>0.000000</td>\n",
       "    </tr>\n",
       "    <tr>\n",
       "      <th>50%</th>\n",
       "      <td>3.000000</td>\n",
       "      <td>117.000000</td>\n",
       "      <td>72.000000</td>\n",
       "      <td>23.000000</td>\n",
       "      <td>30.500000</td>\n",
       "      <td>32.000000</td>\n",
       "      <td>0.372500</td>\n",
       "      <td>29.000000</td>\n",
       "      <td>0.000000</td>\n",
       "    </tr>\n",
       "    <tr>\n",
       "      <th>75%</th>\n",
       "      <td>6.000000</td>\n",
       "      <td>140.250000</td>\n",
       "      <td>80.000000</td>\n",
       "      <td>32.000000</td>\n",
       "      <td>127.250000</td>\n",
       "      <td>36.600000</td>\n",
       "      <td>0.626250</td>\n",
       "      <td>41.000000</td>\n",
       "      <td>1.000000</td>\n",
       "    </tr>\n",
       "    <tr>\n",
       "      <th>max</th>\n",
       "      <td>17.000000</td>\n",
       "      <td>199.000000</td>\n",
       "      <td>122.000000</td>\n",
       "      <td>99.000000</td>\n",
       "      <td>846.000000</td>\n",
       "      <td>67.100000</td>\n",
       "      <td>2.420000</td>\n",
       "      <td>81.000000</td>\n",
       "      <td>1.000000</td>\n",
       "    </tr>\n",
       "  </tbody>\n",
       "</table>\n",
       "</div>"
      ],
      "text/plain": [
       "       Pregnancies     Glucose  BloodPressure  SkinThickness     Insulin  \\\n",
       "count   768.000000  768.000000     768.000000     768.000000  768.000000   \n",
       "mean      3.845052  120.894531      69.105469      20.536458   79.799479   \n",
       "std       3.369578   31.972618      19.355807      15.952218  115.244002   \n",
       "min       0.000000    0.000000       0.000000       0.000000    0.000000   \n",
       "25%       1.000000   99.000000      62.000000       0.000000    0.000000   \n",
       "50%       3.000000  117.000000      72.000000      23.000000   30.500000   \n",
       "75%       6.000000  140.250000      80.000000      32.000000  127.250000   \n",
       "max      17.000000  199.000000     122.000000      99.000000  846.000000   \n",
       "\n",
       "              BMI  DiabetesPedigreeFunction         Age     Outcome  \n",
       "count  768.000000                768.000000  768.000000  768.000000  \n",
       "mean    31.992578                  0.471876   33.240885    0.348958  \n",
       "std      7.884160                  0.331329   11.760232    0.476951  \n",
       "min      0.000000                  0.078000   21.000000    0.000000  \n",
       "25%     27.300000                  0.243750   24.000000    0.000000  \n",
       "50%     32.000000                  0.372500   29.000000    0.000000  \n",
       "75%     36.600000                  0.626250   41.000000    1.000000  \n",
       "max     67.100000                  2.420000   81.000000    1.000000  "
      ]
     },
     "execution_count": 11,
     "metadata": {},
     "output_type": "execute_result"
    }
   ],
   "source": [
    "df.describe()"
   ]
  },
  {
   "cell_type": "markdown",
   "id": "b46842f2",
   "metadata": {},
   "source": [
    "## 2a. Zero Value Features "
   ]
  },
  {
   "cell_type": "code",
   "execution_count": 5,
   "id": "ce0143aa",
   "metadata": {},
   "outputs": [],
   "source": [
    "zero_value_features = ['Glucose','BloodPressure','SkinThickness','Insulin','BMI']"
   ]
  },
  {
   "cell_type": "markdown",
   "id": "8bb18e19",
   "metadata": {},
   "source": [
    "It is reasonable for the variable `Pregnancy` to have 0 value - we would not expect all females in the data set to have had at least 1 child. However, the values for `Glucose`, `BloodPresure`, `SkinThickness`, `Insulin` and `BMI`, we would not expect 0 values (e.g. you cannot have 0 blood pressure while living.We will now check for the prevalence of zero values by feature. The zero values could be from human error (did not write it down, or instrument error (e.g. broken collection instrument))) "
   ]
  },
  {
   "cell_type": "code",
   "execution_count": 6,
   "id": "19ab6665",
   "metadata": {},
   "outputs": [
    {
     "name": "stdout",
     "output_type": "stream",
     "text": [
      "Glucose: Zero Values 5\n",
      "BloodPressure: Zero Values 35\n",
      "SkinThickness: Zero Values 227\n",
      "Insulin: Zero Values 374\n",
      "BMI: Zero Values 11\n"
     ]
    }
   ],
   "source": [
    "for feature in zero_value_features: \n",
    "    print(f\"{feature}: Zero Values {df[feature].loc[df[feature] == 0].count()}\")"
   ]
  },
  {
   "cell_type": "markdown",
   "id": "ec2f1475",
   "metadata": {},
   "source": [
    "Because there are not the same number of zero values for each feature, we cannot assume Missing Completely at Random. As a result, we should impute values assuming they are sampled from a distribution. "
   ]
  },
  {
   "cell_type": "code",
   "execution_count": 7,
   "id": "a68bd686",
   "metadata": {},
   "outputs": [
    {
     "data": {
      "image/png": "[encoded data removed]",
      "text/plain": [
       "<Figure size 432x288 with 1 Axes>"
      ]
     },
     "metadata": {
      "needs_background": "light"
     },
     "output_type": "display_data"
    },
    {
     "data": {
      "image/png": "[encoded data removed]",
      "text/plain": [
       "<Figure size 432x288 with 1 Axes>"
      ]
     },
     "metadata": {
      "needs_background": "light"
     },
     "output_type": "display_data"
    },
    {
     "data": {
      "image/png": "[encoded data removed]",
      "text/plain": [
       "<Figure size 432x288 with 1 Axes>"
      ]
     },
     "metadata": {
      "needs_background": "light"
     },
     "output_type": "display_data"
    },
    {
     "data": {
      "image/png": "[encoded data removed]",
      "text/plain": [
       "<Figure size 432x288 with 1 Axes>"
      ]
     },
     "metadata": {
      "needs_background": "light"
     },
     "output_type": "display_data"
    },
    {
     "data": {
      "image/png": "[encoded data removed]",
      "text/plain": [
       "<Figure size 432x288 with 1 Axes>"
      ]
     },
     "metadata": {
      "needs_background": "light"
     },
     "output_type": "display_data"
    }
   ],
   "source": [
    "feature_dict = {}\n",
    "for feature in zero_value_features: \n",
    "    y = df[feature].loc[df[feature] > 0]\n",
    "    mean_y = y.mean()\n",
    "    std_dev_y = y.std()\n",
    "    y = np.random.choice(y, 50)\n",
    "    x = np.linspace(0, 100, len(y))\n",
    "    dy = std_dev_y\n",
    "    feature_dict[feature] = (mean_y, dy)\n",
    "    plt.errorbar(x, y, yerr=dy, fmt='.k');\n",
    "    plt.title(f'''Estimation of a Sample of {feature} including Error Bars \\n \n",
    "    Mean: {mean_y:.2f} Standard Deviation {dy:.2f}''')\n",
    "    plt.show()"
   ]
  },
  {
   "cell_type": "markdown",
   "id": "996c0f09",
   "metadata": {},
   "source": [
    "### 2a.i Impute based on distribution"
   ]
  },
  {
   "cell_type": "markdown",
   "id": "e8c47dee",
   "metadata": {},
   "source": [
    "We will now impute values for each of the zero value features assuming they are drawn from a Gaussian distribution with mean and standard deviation based on the zero value entries. "
   ]
  },
  {
   "cell_type": "code",
   "execution_count": 48,
   "id": "1bd7f402",
   "metadata": {},
   "outputs": [
    {
     "data": {
      "text/plain": [
       "{'Glucose': (121.6867627785059, 30.53564107280403),\n",
       " 'BloodPressure': (72.40518417462484, 12.382158210105263),\n",
       " 'SkinThickness': (29.153419593345657, 10.476982369987212),\n",
       " 'Insulin': (155.5482233502538, 118.77585518724514),\n",
       " 'BMI': (32.45746367239099, 6.924988332105907)}"
      ]
     },
     "execution_count": 48,
     "metadata": {},
     "output_type": "execute_result"
    }
   ],
   "source": [
    "feature_dict"
   ]
  },
  {
   "cell_type": "code",
   "execution_count": 8,
   "id": "677c0a95",
   "metadata": {},
   "outputs": [
    {
     "name": "stdout",
     "output_type": "stream",
     "text": [
      "Glucose Impute from Gaussian:  (121.69, 30.54)\n",
      "BloodPressure Impute from Gaussian:  (72.41, 12.38)\n",
      "SkinThickness Impute from Gaussian:  (29.15, 10.48)\n",
      "Insulin Impute from Gaussian:  (155.55, 118.78)\n",
      "BMI Impute from Gaussian:  (32.46, 6.92)\n"
     ]
    }
   ],
   "source": [
    "for feature in zero_value_features:  \n",
    "    len_y = len(df[feature].loc[df[feature] == 0])\n",
    "    mean_y, std_dev_y = feature_dict[feature]\n",
    "    print(f\"{feature} Impute from Gaussian:  ({mean_y:.2f}, {std_dev_y:.2f})\")\n",
    "    index = df[feature].loc[df[feature] == 0].index\n",
    "    value = np.random.normal(loc=mean_y, scale=std_dev_y, size=len_y)\n",
    "    df.loc[index,feature] = value\n"
   ]
  },
  {
   "cell_type": "code",
   "execution_count": 9,
   "id": "4a98cbad",
   "metadata": {},
   "outputs": [
    {
     "name": "stdout",
     "output_type": "stream",
     "text": [
      "Glucose: Zero Values 0\n",
      "BloodPressure: Zero Values 0\n",
      "SkinThickness: Zero Values 0\n",
      "Insulin: Zero Values 0\n",
      "BMI: Zero Values 0\n"
     ]
    }
   ],
   "source": [
    "# test to validate imputation\n",
    "for feature in zero_value_features: \n",
    "    print(f\"{feature}: Zero Values {df[feature].loc[df[feature] == 0].count()}\")"
   ]
  },
  {
   "cell_type": "markdown",
   "id": "5a4772e7",
   "metadata": {},
   "source": [
    "## 2b. Exploration of Features "
   ]
  },
  {
   "cell_type": "code",
   "execution_count": 10,
   "id": "bd1257d9",
   "metadata": {},
   "outputs": [],
   "source": [
    "continuous_features = ['Pregnancies','Glucose','BloodPressure','SkinThickness','Insulin','BMI','DiabetesPedigreeFunction','Age']"
   ]
  },
  {
   "cell_type": "code",
   "execution_count": 179,
   "id": "363409ef",
   "metadata": {
    "scrolled": true
   },
   "outputs": [
    {
     "data": {
      "image/png": "[encoded data removed]",
      "text/plain": [
       "<Figure size 432x288 with 1 Axes>"
      ]
     },
     "metadata": {
      "needs_background": "light"
     },
     "output_type": "display_data"
    },
    {
     "name": "stdout",
     "output_type": "stream",
     "text": [
      "Pregnancies\n",
      " Ttest_indResult(statistic=6.298430550035151, pvalue=5.065127298053476e-10)\n",
      "Difference is statistically significant at alpha = 0.05\n"
     ]
    },
    {
     "data": {
      "image/png": "[encoded data removed]",
      "text/plain": [
       "<Figure size 432x288 with 1 Axes>"
      ]
     },
     "metadata": {
      "needs_background": "light"
     },
     "output_type": "display_data"
    },
    {
     "name": "stdout",
     "output_type": "stream",
     "text": [
      "Glucose\n",
      " Ttest_indResult(statistic=15.492059001780484, pvalue=2.7104209741613357e-47)\n",
      "Difference is statistically significant at alpha = 0.05\n"
     ]
    },
    {
     "data": {
      "image/png": "[encoded data removed]",
      "text/plain": [
       "<Figure size 432x288 with 1 Axes>"
      ]
     },
     "metadata": {
      "needs_background": "light"
     },
     "output_type": "display_data"
    },
    {
     "name": "stdout",
     "output_type": "stream",
     "text": [
      "BloodPressure\n",
      " Ttest_indResult(statistic=4.617328171859136, pvalue=4.557656091454922e-06)\n",
      "Difference is statistically significant at alpha = 0.05\n"
     ]
    },
    {
     "data": {
      "image/png": "[encoded data removed]",
      "text/plain": [
       "<Figure size 432x288 with 1 Axes>"
      ]
     },
     "metadata": {
      "needs_background": "light"
     },
     "output_type": "display_data"
    },
    {
     "name": "stdout",
     "output_type": "stream",
     "text": [
      "SkinThickness\n",
      " Ttest_indResult(statistic=5.8523141873383215, pvalue=7.184547225982003e-09)\n",
      "Difference is statistically significant at alpha = 0.05\n"
     ]
    },
    {
     "data": {
      "image/png": "[encoded data removed]",
      "text/plain": [
       "<Figure size 432x288 with 1 Axes>"
      ]
     },
     "metadata": {
      "needs_background": "light"
     },
     "output_type": "display_data"
    },
    {
     "name": "stdout",
     "output_type": "stream",
     "text": [
      "Insulin\n",
      " Ttest_indResult(statistic=4.177616480338424, pvalue=3.284933748537596e-05)\n",
      "Difference is statistically significant at alpha = 0.05\n"
     ]
    },
    {
     "data": {
      "image/png": "[encoded data removed]",
      "text/plain": [
       "<Figure size 432x288 with 1 Axes>"
      ]
     },
     "metadata": {
      "needs_background": "light"
     },
     "output_type": "display_data"
    },
    {
     "name": "stdout",
     "output_type": "stream",
     "text": [
      "BMI\n",
      " Ttest_indResult(statistic=9.068126177006524, pvalue=1.000060903740437e-18)\n",
      "Difference is statistically significant at alpha = 0.05\n"
     ]
    },
    {
     "data": {
      "image/png": "[encoded data removed]",
      "text/plain": [
       "<Figure size 432x288 with 1 Axes>"
      ]
     },
     "metadata": {
      "needs_background": "light"
     },
     "output_type": "display_data"
    },
    {
     "name": "stdout",
     "output_type": "stream",
     "text": [
      "DiabetesPedigreeFunction\n",
      " Ttest_indResult(statistic=4.88582646072744, pvalue=1.254607010148809e-06)\n",
      "Difference is statistically significant at alpha = 0.05\n"
     ]
    },
    {
     "data": {
      "image/png": "[encoded data removed]",
      "text/plain": [
       "<Figure size 432x288 with 1 Axes>"
      ]
     },
     "metadata": {
      "needs_background": "light"
     },
     "output_type": "display_data"
    },
    {
     "name": "stdout",
     "output_type": "stream",
     "text": [
      "Age\n",
      " Ttest_indResult(statistic=6.792688071649956, pvalue=2.2099754606654358e-11)\n",
      "Difference is statistically significant at alpha = 0.05\n"
     ]
    }
   ],
   "source": [
    "for feature in continuous_features:\n",
    "    compare_features(df, 'Outcome',feature,5,0)"
   ]
  },
  {
   "cell_type": "code",
   "execution_count": 21,
   "id": "3ab02bbf",
   "metadata": {
    "scrolled": false
   },
   "outputs": [
    {
     "data": {
      "text/plain": [
       "<AxesSubplot:>"
      ]
     },
     "execution_count": 21,
     "metadata": {},
     "output_type": "execute_result"
    },
    {
     "data": {
      "image/png": "[encoded data removed]",
      "text/plain": [
       "<Figure size 432x288 with 1 Axes>"
      ]
     },
     "metadata": {
      "needs_background": "light"
     },
     "output_type": "display_data"
    }
   ],
   "source": [
    "df['Pregnancies'].hist()"
   ]
  },
  {
   "cell_type": "code",
   "execution_count": 20,
   "id": "678fafe0",
   "metadata": {
    "scrolled": true
   },
   "outputs": [
    {
     "data": {
      "text/plain": [
       "<AxesSubplot:>"
      ]
     },
     "execution_count": 20,
     "metadata": {},
     "output_type": "execute_result"
    },
    {
     "data": {
      "image/png": "[encoded data removed]",
      "text/plain": [
       "<Figure size 432x288 with 1 Axes>"
      ]
     },
     "metadata": {
      "needs_background": "light"
     },
     "output_type": "display_data"
    }
   ],
   "source": [
    "df['Glucose'].hist()"
   ]
  },
  {
   "cell_type": "markdown",
   "id": "109ad823",
   "metadata": {},
   "source": [
    "## 2c. Discretize Features"
   ]
  },
  {
   "cell_type": "markdown",
   "id": "d252500f",
   "metadata": {},
   "source": [
    "We need to pre-process the data before putting it into the Bayesian Network. "
   ]
  },
  {
   "cell_type": "code",
   "execution_count": 11,
   "id": "208b4cb0",
   "metadata": {},
   "outputs": [],
   "source": [
    "continuous_df = df.copy()"
   ]
  },
  {
   "cell_type": "code",
   "execution_count": 12,
   "id": "f1535597",
   "metadata": {},
   "outputs": [],
   "source": [
    "continuous_features = ['Pregnancies','Glucose','BloodPressure','SkinThickness','Insulin','BMI','DiabetesPedigreeFunction','Age']"
   ]
  },
  {
   "cell_type": "markdown",
   "id": "484f302e",
   "metadata": {},
   "source": [
    "For each continous feature, discretize into bins. Try 3 bins, but if non-unique edges put into 2 bins. "
   ]
  },
  {
   "cell_type": "code",
   "execution_count": 53,
   "id": "60ec99d4",
   "metadata": {},
   "outputs": [],
   "source": [
    "for feature in continuous_features: \n",
    "    try:\n",
    "        df[feature]=pd.qcut(df[feature],3,labels=[\"1\",\"2\",\"3\"])\n",
    "    except: \n",
    "        df[feature]=pd.qcut(df[feature],2,labels=[\"1\",\"2\"])"
   ]
  },
  {
   "cell_type": "code",
   "execution_count": 54,
   "id": "0cdd1e09",
   "metadata": {
    "scrolled": true
   },
   "outputs": [
    {
     "data": {
      "text/html": [
       "<div>\n",
       "<style scoped>\n",
       "    .dataframe tbody tr th:only-of-type {\n",
       "        vertical-align: middle;\n",
       "    }\n",
       "\n",
       "    .dataframe tbody tr th {\n",
       "        vertical-align: top;\n",
       "    }\n",
       "\n",
       "    .dataframe thead th {\n",
       "        text-align: right;\n",
       "    }\n",
       "</style>\n",
       "<table border=\"1\" class=\"dataframe\">\n",
       "  <thead>\n",
       "    <tr style=\"text-align: right;\">\n",
       "      <th></th>\n",
       "      <th>Pregnancies</th>\n",
       "      <th>Glucose</th>\n",
       "      <th>BloodPressure</th>\n",
       "      <th>SkinThickness</th>\n",
       "      <th>Insulin</th>\n",
       "      <th>BMI</th>\n",
       "      <th>DiabetesPedigreeFunction</th>\n",
       "      <th>Age</th>\n",
       "      <th>Outcome</th>\n",
       "    </tr>\n",
       "  </thead>\n",
       "  <tbody>\n",
       "    <tr>\n",
       "      <th>0</th>\n",
       "      <td>3</td>\n",
       "      <td>3</td>\n",
       "      <td>2</td>\n",
       "      <td>3</td>\n",
       "      <td>3</td>\n",
       "      <td>2</td>\n",
       "      <td>3</td>\n",
       "      <td>3</td>\n",
       "      <td>1</td>\n",
       "    </tr>\n",
       "    <tr>\n",
       "      <th>1</th>\n",
       "      <td>1</td>\n",
       "      <td>1</td>\n",
       "      <td>1</td>\n",
       "      <td>2</td>\n",
       "      <td>1</td>\n",
       "      <td>1</td>\n",
       "      <td>2</td>\n",
       "      <td>2</td>\n",
       "      <td>0</td>\n",
       "    </tr>\n",
       "    <tr>\n",
       "      <th>2</th>\n",
       "      <td>3</td>\n",
       "      <td>3</td>\n",
       "      <td>1</td>\n",
       "      <td>2</td>\n",
       "      <td>2</td>\n",
       "      <td>1</td>\n",
       "      <td>3</td>\n",
       "      <td>2</td>\n",
       "      <td>1</td>\n",
       "    </tr>\n",
       "    <tr>\n",
       "      <th>3</th>\n",
       "      <td>1</td>\n",
       "      <td>1</td>\n",
       "      <td>1</td>\n",
       "      <td>1</td>\n",
       "      <td>2</td>\n",
       "      <td>1</td>\n",
       "      <td>1</td>\n",
       "      <td>1</td>\n",
       "      <td>0</td>\n",
       "    </tr>\n",
       "    <tr>\n",
       "      <th>4</th>\n",
       "      <td>1</td>\n",
       "      <td>3</td>\n",
       "      <td>1</td>\n",
       "      <td>3</td>\n",
       "      <td>2</td>\n",
       "      <td>3</td>\n",
       "      <td>3</td>\n",
       "      <td>2</td>\n",
       "      <td>1</td>\n",
       "    </tr>\n",
       "  </tbody>\n",
       "</table>\n",
       "</div>"
      ],
      "text/plain": [
       "  Pregnancies Glucose BloodPressure SkinThickness Insulin BMI  \\\n",
       "0           3       3             2             3       3   2   \n",
       "1           1       1             1             2       1   1   \n",
       "2           3       3             1             2       2   1   \n",
       "3           1       1             1             1       2   1   \n",
       "4           1       3             1             3       2   3   \n",
       "\n",
       "  DiabetesPedigreeFunction Age  Outcome  \n",
       "0                        3   3        1  \n",
       "1                        2   2        0  \n",
       "2                        3   2        1  \n",
       "3                        1   1        0  \n",
       "4                        3   2        1  "
      ]
     },
     "execution_count": 54,
     "metadata": {},
     "output_type": "execute_result"
    }
   ],
   "source": [
    "df.head()"
   ]
  },
  {
   "cell_type": "markdown",
   "id": "4e5e2ed0",
   "metadata": {},
   "source": [
    "## 2d. Training & Test Split"
   ]
  },
  {
   "cell_type": "markdown",
   "id": "63e395f6",
   "metadata": {},
   "source": [
    "Training Data will be 70%, testing data will be 30%. This split is done in the function `split_and_sample`.  "
   ]
  },
  {
   "cell_type": "code",
   "execution_count": 39,
   "id": "4e5acc8c",
   "metadata": {},
   "outputs": [
    {
     "name": "stdout",
     "output_type": "stream",
     "text": [
      "Training: 0.33891992551210426\n",
      "Testing: 0.3722943722943723\n",
      "Balanced Training: 0.5\n"
     ]
    }
   ],
   "source": [
    "X_train, X_over, X_test, y_train, y_over, y_test = split_and_sample(df, continuous_features)\n",
    "print(f\"Training: {y_train.sum() / len(y_train)}\")\n",
    "print(f\"Testing: {y_test.sum() / len(y_test)}\")\n",
    "print(f\"Balanced Training: {y_over.sum() / len(y_over)}\")"
   ]
  },
  {
   "cell_type": "markdown",
   "id": "35f9fb56",
   "metadata": {},
   "source": [
    "# 3. Bayesian Network"
   ]
  },
  {
   "cell_type": "markdown",
   "id": "98f39b54",
   "metadata": {},
   "source": [
    "## 3a. Construct Networks"
   ]
  },
  {
   "cell_type": "code",
   "execution_count": 25,
   "id": "e382d343",
   "metadata": {},
   "outputs": [],
   "source": [
    "no_dependency_model = BayesianNetwork([('Pregnancies','Outcome'),\n",
    "                         ('SkinThickness','Outcome'),\n",
    "                         ('BMI','Outcome'),\n",
    "                         ('Age','Outcome'),\n",
    "                         ('DiabetesPedigreeFunction','Outcome'), \n",
    "                         ('BloodPressure','Outcome'), \n",
    "                         ('Insulin','Outcome'), \n",
    "                         ('Glucose','Outcome')\n",
    "                        ])"
   ]
  },
  {
   "cell_type": "code",
   "execution_count": 26,
   "id": "a1bdb143",
   "metadata": {},
   "outputs": [],
   "source": [
    "pregnancy_hierarchical_model = BayesianNetwork([('Pregnancies', 'SkinThickness'), \n",
    "                          ('Pregnancies','BMI'), \n",
    "                          ('SkinThickness','Outcome'),\n",
    "                         ('BMI','Outcome'),\n",
    "                         ('Age','Outcome'),\n",
    "                         ('DiabetesPedigreeFunction','Outcome'), \n",
    "                         ('BloodPressure','Outcome'), \n",
    "                         ('Insulin','Outcome'), \n",
    "                         ('Glucose','Outcome')\n",
    "                        ])"
   ]
  },
  {
   "cell_type": "code",
   "execution_count": null,
   "id": "811404d2",
   "metadata": {},
   "outputs": [],
   "source": [
    "outcome_hierarchical_model = BayesianNetwork([('Pregnancies', 'Outcome'), \n",
    "                         ('BMI','Outcome'),\n",
    "                         ('Age','Outcome'),\n",
    "                         ('DiabetesPedigreeFunction','Outcome'), \n",
    "                         ('BloodPressure','Outcome'), \n",
    "                         ('SkinThickness','Outcome'),\n",
    "                         ('Outcome','Insulin'), \n",
    "                         ('Outcome','Glucose')\n",
    "                        ])"
   ]
  },
  {
   "cell_type": "code",
   "execution_count": 27,
   "id": "9975891d",
   "metadata": {},
   "outputs": [],
   "source": [
    "hierarchical_model = BayesianNetwork([('Pregnancies', 'SkinThickness'), \n",
    "                          ('Pregnancies','BMI'), \n",
    "                          ('SkinThickness','Outcome'),\n",
    "                         ('BMI','Outcome'),\n",
    "                         ('Age','Outcome'),\n",
    "                         ('DiabetesPedigreeFunction','Outcome'), \n",
    "                         ('BloodPressure','Outcome'), \n",
    "                         ('Outcome','Insulin'), \n",
    "                         ('Outcome','Glucose')\n",
    "                        ])"
   ]
  },
  {
   "cell_type": "code",
   "execution_count": 29,
   "id": "236340bf",
   "metadata": {},
   "outputs": [],
   "source": [
    "bayesian_model_list = [no_dependency_model, hierarchical_model, outcome_hierarchical_model, pregnancy_hierarchical_model]\n",
    "bayesian_model_list_names = ['No Dependency Model', 'Hierarchical Model', 'Outcome Hierarchical Model', 'Pregnancy Hierarchical Model']\n",
    "bayesian_dict = dict(zip(bayesian_model_list_names, bayesian_model_list))"
   ]
  },
  {
   "cell_type": "markdown",
   "id": "9939816f",
   "metadata": {},
   "source": [
    "## 3b. Plot Bayesian Networks "
   ]
  },
  {
   "cell_type": "code",
   "execution_count": 30,
   "id": "ec6fc085",
   "metadata": {},
   "outputs": [
    {
     "name": "stdout",
     "output_type": "stream",
     "text": [
      "No Dependency Model\n"
     ]
    },
    {
     "data": {
      "image/png": "[encoded data removed]",
      "text/plain": [
       "<Figure size 432x288 with 1 Axes>"
      ]
     },
     "metadata": {},
     "output_type": "display_data"
    },
    {
     "name": "stdout",
     "output_type": "stream",
     "text": [
      "Hierarchical Model\n"
     ]
    },
    {
     "data": {
      "image/png": "[encoded data removed]",
      "text/plain": [
       "<Figure size 432x288 with 1 Axes>"
      ]
     },
     "metadata": {},
     "output_type": "display_data"
    },
    {
     "name": "stdout",
     "output_type": "stream",
     "text": [
      "Outcome Hierarchical Model\n"
     ]
    },
    {
     "data": {
      "image/png": "[encoded data removed]",
      "text/plain": [
       "<Figure size 432x288 with 1 Axes>"
      ]
     },
     "metadata": {},
     "output_type": "display_data"
    },
    {
     "name": "stdout",
     "output_type": "stream",
     "text": [
      "Pregnancy Hierarchical Model\n"
     ]
    },
    {
     "data": {
      "image/png": "[encoded data removed]",
      "text/plain": [
       "<Figure size 432x288 with 1 Axes>"
      ]
     },
     "metadata": {},
     "output_type": "display_data"
    }
   ],
   "source": [
    "for key in bayesian_dict.keys():\n",
    "    print(key)\n",
    "    plot_network(bayesian_dict[key],key)"
   ]
  },
  {
   "cell_type": "markdown",
   "id": "406c28cf",
   "metadata": {},
   "source": [
    "## 3c. Bayesian Network Training and Evaluation"
   ]
  },
  {
   "cell_type": "code",
   "execution_count": 194,
   "id": "8b8e10c8",
   "metadata": {},
   "outputs": [
    {
     "data": {
      "text/plain": [
       "{'No Dependency Model': <pgmpy.models.BayesianNetwork.BayesianNetwork at 0x7f951266c280>,\n",
       " 'Hierarchical Model': <pgmpy.models.BayesianNetwork.BayesianNetwork at 0x7f94f3387a60>,\n",
       " 'Outcome Hierarchical Model': <pgmpy.models.BayesianNetwork.BayesianNetwork at 0x7f94e06a8640>,\n",
       " 'Pregnancy Hierarchical Model': <pgmpy.models.BayesianNetwork.BayesianNetwork at 0x7f9514d3fc70>}"
      ]
     },
     "execution_count": 194,
     "metadata": {},
     "output_type": "execute_result"
    }
   ],
   "source": [
    "bayesian_dict"
   ]
  },
  {
   "cell_type": "code",
   "execution_count": 88,
   "id": "6ec68e17",
   "metadata": {},
   "outputs": [
    {
     "name": "stdout",
     "output_type": "stream",
     "text": [
      "Splitting Data\n",
      "Fitting Model\n",
      "Evaluating test\n"
     ]
    },
    {
     "name": "stderr",
     "output_type": "stream",
     "text": [
      "100%|██████████| 219/219 [01:43<00:00,  2.12it/s]\n"
     ]
    },
    {
     "name": "stdout",
     "output_type": "stream",
     "text": [
      "Evaluating train\n"
     ]
    },
    {
     "name": "stderr",
     "output_type": "stream",
     "text": [
      "100%|██████████| 478/478 [03:14<00:00,  2.46it/s]\n"
     ]
    },
    {
     "name": "stdout",
     "output_type": "stream",
     "text": [
      "Add Results to dict\n",
      "\n",
      "    No Dependency Model: normal \n",
      " \n",
      "    Train: \n",
      "\n",
      "    ROC: 0.9992502624081572  F1: 0.9736842105263158\n",
      "    Test: \n",
      "    ROC: 0.639457256805965  F1: 0.31111111111111106\n",
      "    \n",
      "Splitting Data\n",
      "Fitting Model\n",
      "Evaluating test\n"
     ]
    },
    {
     "name": "stderr",
     "output_type": "stream",
     "text": [
      "100%|██████████| 213/213 [01:25<00:00,  2.50it/s]\n"
     ]
    },
    {
     "name": "stdout",
     "output_type": "stream",
     "text": [
      "Evaluating train\n"
     ]
    },
    {
     "name": "stderr",
     "output_type": "stream",
     "text": [
      "100%|██████████| 492/492 [03:24<00:00,  2.41it/s]\n"
     ]
    },
    {
     "name": "stdout",
     "output_type": "stream",
     "text": [
      "Add Results to dict\n",
      "\n",
      "    No Dependency Model: over \n",
      " \n",
      "    Train: \n",
      "\n",
      "    ROC: 0.9995056449432125  F1: 0.9869375907111756\n",
      "    Test: \n",
      "    ROC: 0.6485470085470086  F1: 0.2826086956521739\n",
      "    \n",
      "Splitting Data\n",
      "Fitting Model\n",
      "Evaluating test\n"
     ]
    },
    {
     "name": "stderr",
     "output_type": "stream",
     "text": [
      "100%|██████████| 224/224 [00:02<00:00, 100.62it/s]\n"
     ]
    },
    {
     "name": "stdout",
     "output_type": "stream",
     "text": [
      "Evaluating train\n"
     ]
    },
    {
     "name": "stderr",
     "output_type": "stream",
     "text": [
      "100%|██████████| 474/474 [00:04<00:00, 102.79it/s]\n"
     ]
    },
    {
     "name": "stdout",
     "output_type": "stream",
     "text": [
      "Add Results to dict\n",
      "\n",
      "    Hierarchical Model: normal \n",
      " \n",
      "    Train: \n",
      "\n",
      "    ROC: 0.9419990899438798  F1: 0.7968337730870712\n",
      "    Test: \n",
      "    ROC: 0.6695994637171108  F1: 0.5508982035928144\n",
      "    \n",
      "Splitting Data\n",
      "Fitting Model\n",
      "Evaluating test\n"
     ]
    },
    {
     "name": "stderr",
     "output_type": "stream",
     "text": [
      "100%|██████████| 218/218 [00:01<00:00, 116.04it/s]\n"
     ]
    },
    {
     "name": "stdout",
     "output_type": "stream",
     "text": [
      "Evaluating train\n"
     ]
    },
    {
     "name": "stderr",
     "output_type": "stream",
     "text": [
      "100%|██████████| 486/486 [00:06<00:00, 80.79it/s] \n"
     ]
    },
    {
     "name": "stdout",
     "output_type": "stream",
     "text": [
      "Add Results to dict\n",
      "\n",
      "    Hierarchical Model: over \n",
      " \n",
      "    Train: \n",
      "\n",
      "    ROC: 0.9486941503099173  F1: 0.8765603328710124\n",
      "    Test: \n",
      "    ROC: 0.6865027678280691  F1: 0.5930232558139534\n",
      "    \n",
      "Splitting Data\n",
      "Fitting Model\n",
      "Evaluating test\n"
     ]
    },
    {
     "name": "stderr",
     "output_type": "stream",
     "text": [
      "100%|██████████| 220/220 [00:06<00:00, 31.44it/s]\n"
     ]
    },
    {
     "name": "stdout",
     "output_type": "stream",
     "text": [
      "Evaluating train\n"
     ]
    },
    {
     "name": "stderr",
     "output_type": "stream",
     "text": [
      "100%|██████████| 483/483 [00:17<00:00, 26.89it/s]\n"
     ]
    },
    {
     "name": "stdout",
     "output_type": "stream",
     "text": [
      "Add Results to dict\n",
      "\n",
      "    Outcome Hierarchical Model: normal \n",
      " \n",
      "    Train: \n",
      "\n",
      "    ROC: 0.9777190213101814  F1: 0.8587257617728532\n",
      "    Test: \n",
      "    ROC: 0.6208898239052517  F1: 0.5207100591715976\n",
      "    \n",
      "Splitting Data\n",
      "Fitting Model\n",
      "Evaluating test\n"
     ]
    },
    {
     "name": "stderr",
     "output_type": "stream",
     "text": [
      "100%|██████████| 215/215 [00:06<00:00, 33.03it/s]\n"
     ]
    },
    {
     "name": "stdout",
     "output_type": "stream",
     "text": [
      "Evaluating train\n"
     ]
    },
    {
     "name": "stderr",
     "output_type": "stream",
     "text": [
      "100%|██████████| 479/479 [00:14<00:00, 32.24it/s]\n"
     ]
    },
    {
     "name": "stdout",
     "output_type": "stream",
     "text": [
      "Add Results to dict\n",
      "\n",
      "    Outcome Hierarchical Model: over \n",
      " \n",
      "    Train: \n",
      "\n",
      "    ROC: 0.9756861870788743  F1: 0.9150684931506848\n",
      "    Test: \n",
      "    ROC: 0.6355762824783477  F1: 0.5568181818181818\n",
      "    \n",
      "Splitting Data\n",
      "Fitting Model\n",
      "Evaluating test\n"
     ]
    },
    {
     "name": "stderr",
     "output_type": "stream",
     "text": [
      "100%|██████████| 221/221 [00:25<00:00,  8.67it/s]\n"
     ]
    },
    {
     "name": "stdout",
     "output_type": "stream",
     "text": [
      "Evaluating train\n"
     ]
    },
    {
     "name": "stderr",
     "output_type": "stream",
     "text": [
      "100%|██████████| 473/473 [00:55<00:00,  8.50it/s]\n"
     ]
    },
    {
     "name": "stdout",
     "output_type": "stream",
     "text": [
      "Add Results to dict\n",
      "\n",
      "    Pregnancy Hierarchical Model: normal \n",
      " \n",
      "    Train: \n",
      "\n",
      "    ROC: 0.9942254082039028  F1: 0.9217391304347826\n",
      "    Test: \n",
      "    ROC: 0.6538713373710918  F1: 0.3047619047619048\n",
      "    \n",
      "Splitting Data\n",
      "Fitting Model\n",
      "Evaluating test\n"
     ]
    },
    {
     "name": "stderr",
     "output_type": "stream",
     "text": [
      "100%|██████████| 217/217 [00:22<00:00,  9.47it/s]\n"
     ]
    },
    {
     "name": "stdout",
     "output_type": "stream",
     "text": [
      "Evaluating train\n"
     ]
    },
    {
     "name": "stderr",
     "output_type": "stream",
     "text": [
      "100%|██████████| 483/483 [01:08<00:00,  7.05it/s]\n"
     ]
    },
    {
     "name": "stdout",
     "output_type": "stream",
     "text": [
      "Add Results to dict\n",
      "\n",
      "    Pregnancy Hierarchical Model: over \n",
      " \n",
      "    Train: \n",
      "\n",
      "    ROC: 0.995021551004043  F1: 0.9566473988439307\n",
      "    Test: \n",
      "    ROC: 0.6383454208129533  F1: 0.2626262626262626\n",
      "    \n"
     ]
    }
   ],
   "source": [
    "results_dict = {}\n",
    "sample_types = ['normal','over']\n",
    "for key in bayesian_dict.keys():\n",
    "    for sample in sample_types: \n",
    "        train_test_network(df,results_dict, continuous_features, bayesian_dict[key],key,sample)"
   ]
  },
  {
   "cell_type": "markdown",
   "id": "620722b7",
   "metadata": {},
   "source": [
    "## 3d. Explore Conditional Probability Distributions and Node Cardinality"
   ]
  },
  {
   "cell_type": "code",
   "execution_count": 89,
   "id": "bcad570d",
   "metadata": {},
   "outputs": [
    {
     "name": "stdout",
     "output_type": "stream",
     "text": [
      "No Dependency Model\n",
      "[<TabularCPD representing P(Pregnancies:3) at 0x7f807ae46c40>, <TabularCPD representing P(Outcome:2 | Age:3, BMI:3, BloodPressure:3, DiabetesPedigreeFunction:3, Glucose:3, Insulin:3, Pregnancies:3, SkinThickness:3) at 0x7f807b1e3ac0>, <TabularCPD representing P(SkinThickness:3) at 0x7f807b093190>, <TabularCPD representing P(BMI:3) at 0x7f80c9dec2b0>, <TabularCPD representing P(Age:3) at 0x7f80c9e02850>, <TabularCPD representing P(DiabetesPedigreeFunction:3) at 0x7f80c9110fa0>, <TabularCPD representing P(BloodPressure:3) at 0x7f80c9c91e20>, <TabularCPD representing P(Insulin:3) at 0x7f80c91106a0>, <TabularCPD representing P(Glucose:3) at 0x7f807b1e35b0>]\n",
      "Node: Pregnancies: 3\n",
      "Node: Glucose: 3\n",
      "Node: BloodPressure: 3\n",
      "Node: SkinThickness: 3\n",
      "Node: Insulin: 3\n",
      "Node: BMI: 3\n",
      "Node: DiabetesPedigreeFunction: 3\n",
      "Node: Age: 3\n",
      "Hierarchical Model\n",
      "[<TabularCPD representing P(Pregnancies:3) at 0x7f80a91c1eb0>, <TabularCPD representing P(SkinThickness:3 | Pregnancies:3) at 0x7f80c9ea1820>, <TabularCPD representing P(BMI:3 | Pregnancies:3) at 0x7f80c90d88b0>, <TabularCPD representing P(Outcome:2 | Age:3, BMI:3, BloodPressure:3, DiabetesPedigreeFunction:3, SkinThickness:3) at 0x7f80c9209100>, <TabularCPD representing P(Age:3) at 0x7f80a91c1f70>, <TabularCPD representing P(DiabetesPedigreeFunction:3) at 0x7f80c9e02970>, <TabularCPD representing P(BloodPressure:3) at 0x7f80c9082580>, <TabularCPD representing P(Insulin:3 | Outcome:2) at 0x7f80c90d8d90>, <TabularCPD representing P(Glucose:3 | Outcome:2) at 0x7f80c90d8fa0>]\n",
      "Node: Pregnancies: 3\n",
      "Node: Glucose: 3\n",
      "Node: BloodPressure: 3\n",
      "Node: SkinThickness: 3\n",
      "Node: Insulin: 3\n",
      "Node: BMI: 3\n",
      "Node: DiabetesPedigreeFunction: 3\n",
      "Node: Age: 3\n",
      "Outcome Hierarchical Model\n",
      "[<TabularCPD representing P(Pregnancies:3) at 0x7f807ae95880>, <TabularCPD representing P(Outcome:2 | Age:3, BMI:3, BloodPressure:3, DiabetesPedigreeFunction:3, Pregnancies:3, SkinThickness:3) at 0x7f807b0b4310>, <TabularCPD representing P(BMI:3) at 0x7f807b043430>, <TabularCPD representing P(Age:3) at 0x7f80a91ab0a0>, <TabularCPD representing P(DiabetesPedigreeFunction:3) at 0x7f807aee53d0>, <TabularCPD representing P(BloodPressure:3) at 0x7f80c91108b0>, <TabularCPD representing P(SkinThickness:3) at 0x7f80c9e974c0>, <TabularCPD representing P(Insulin:3 | Outcome:2) at 0x7f80c92092b0>, <TabularCPD representing P(Glucose:3 | Outcome:2) at 0x7f807ae954f0>]\n",
      "Node: Pregnancies: 3\n",
      "Node: Glucose: 3\n",
      "Node: BloodPressure: 3\n",
      "Node: SkinThickness: 3\n",
      "Node: Insulin: 3\n",
      "Node: BMI: 3\n",
      "Node: DiabetesPedigreeFunction: 3\n",
      "Node: Age: 3\n",
      "Pregnancy Hierarchical Model\n",
      "[<TabularCPD representing P(Pregnancies:3) at 0x7f80a9170610>, <TabularCPD representing P(SkinThickness:3 | Pregnancies:3) at 0x7f807b1018e0>, <TabularCPD representing P(BMI:3 | Pregnancies:3) at 0x7f807b101d90>, <TabularCPD representing P(Outcome:2 | Age:3, BMI:3, BloodPressure:3, DiabetesPedigreeFunction:3, Glucose:3, Insulin:3, SkinThickness:3) at 0x7f80ca055460>, <TabularCPD representing P(Age:3) at 0x7f807b0cdfa0>, <TabularCPD representing P(DiabetesPedigreeFunction:3) at 0x7f80c9c8a610>, <TabularCPD representing P(BloodPressure:3) at 0x7f807aeec250>, <TabularCPD representing P(Insulin:3) at 0x7f80c9e02be0>, <TabularCPD representing P(Glucose:3) at 0x7f80a9170490>]\n",
      "Node: Pregnancies: 3\n",
      "Node: Glucose: 3\n",
      "Node: BloodPressure: 3\n",
      "Node: SkinThickness: 3\n",
      "Node: Insulin: 3\n",
      "Node: BMI: 3\n",
      "Node: DiabetesPedigreeFunction: 3\n",
      "Node: Age: 3\n"
     ]
    }
   ],
   "source": [
    "for key in bayesian_dict.keys():\n",
    "    print(key)\n",
    "    print(bayesian_dict[key].get_cpds()) \n",
    "    for feature in continuous_features: \n",
    "        print(f\"Node: {feature}: {bayesian_dict[key].get_cardinality(feature)}\")"
   ]
  },
  {
   "cell_type": "markdown",
   "id": "8ef27c43",
   "metadata": {},
   "source": [
    "# 4. Naive Bayes"
   ]
  },
  {
   "cell_type": "code",
   "execution_count": 115,
   "id": "34de6228",
   "metadata": {},
   "outputs": [
    {
     "name": "stdout",
     "output_type": "stream",
     "text": [
      "Splitting Data\n",
      "Fitting Model\n",
      "Evaluating test\n"
     ]
    },
    {
     "name": "stderr",
     "output_type": "stream",
     "text": [
      "100%|██████████| 222/222 [00:04<00:00, 45.20it/s]\n"
     ]
    },
    {
     "name": "stdout",
     "output_type": "stream",
     "text": [
      "Evaluating train\n"
     ]
    },
    {
     "name": "stderr",
     "output_type": "stream",
     "text": [
      "100%|██████████| 476/476 [00:00<00:00, 1115.13it/s]\n"
     ]
    },
    {
     "name": "stdout",
     "output_type": "stream",
     "text": [
      "Add Results to dict\n",
      "\n",
      "    Naive Bayes: normal \n",
      " \n",
      "    Train: \n",
      "\n",
      "    ROC: 0.7999289926214073  F1: 0.6174142480211081\n",
      "    Test: \n",
      "    ROC: 0.8255036261079773  F1: 0.6744186046511628\n",
      "    \n",
      "Splitting Data\n",
      "Fitting Model\n",
      "Evaluating test\n"
     ]
    },
    {
     "name": "stderr",
     "output_type": "stream",
     "text": [
      "100%|██████████| 219/219 [00:00<00:00, 924.74it/s]\n"
     ]
    },
    {
     "name": "stdout",
     "output_type": "stream",
     "text": [
      "Evaluating train\n"
     ]
    },
    {
     "name": "stderr",
     "output_type": "stream",
     "text": [
      "100%|██████████| 472/472 [00:00<00:00, 1273.73it/s]\n"
     ]
    },
    {
     "name": "stdout",
     "output_type": "stream",
     "text": [
      "Add Results to dict\n",
      "\n",
      "    Naive Bayes: over \n",
      " \n",
      "    Train: \n",
      "\n",
      "    ROC: 0.8255604956957714  F1: 0.7637906647807639\n",
      "    Test: \n",
      "    ROC: 0.780441998602376  F1: 0.5775401069518717\n",
      "    \n"
     ]
    }
   ],
   "source": [
    "nb_model = NaiveBayes()\n",
    "train_test_network(df, results_dict, continuous_features, nb_model, model_name='Naive Bayes',sample_type='normal')\n",
    "train_test_network(df, results_dict, continuous_features, nb_model, model_name='Naive Bayes',sample_type='over')"
   ]
  },
  {
   "cell_type": "markdown",
   "id": "2036f5ae",
   "metadata": {},
   "source": [
    "# 5. Bayesian Inference"
   ]
  },
  {
   "cell_type": "markdown",
   "id": "15900bdf",
   "metadata": {},
   "source": [
    "## 5a. Variable Elimination (Naive Bayes)"
   ]
  },
  {
   "cell_type": "markdown",
   "id": "f47fe092",
   "metadata": {},
   "source": [
    "### Infer the Posterior Probability After Observing Evidence (Naive Bayes)"
   ]
  },
  {
   "cell_type": "code",
   "execution_count": 90,
   "id": "1c14a9d5",
   "metadata": {},
   "outputs": [
    {
     "name": "stderr",
     "output_type": "stream",
     "text": [
      "0it [00:00, ?it/s]n Order: : : 0it [00:00, ?it/s]"
     ]
    },
    {
     "name": "stdout",
     "output_type": "stream",
     "text": [
      "+------------+----------------+\n",
      "| Outcome    |   phi(Outcome) |\n",
      "+============+================+\n",
      "| Outcome(0) |         0.8996 |\n",
      "+------------+----------------+\n",
      "| Outcome(1) |         0.1004 |\n",
      "+------------+----------------+\n"
     ]
    },
    {
     "name": "stderr",
     "output_type": "stream",
     "text": [
      "\n"
     ]
    }
   ],
   "source": [
    "infer = VariableElimination(nb_model)\n",
    "posterior_p = infer.query([\"Outcome\"], evidence={\"BMI\": '1'\n",
    "                                                 , \"DiabetesPedigreeFunction\": '1'})\n",
    "print(posterior_p)"
   ]
  },
  {
   "cell_type": "code",
   "execution_count": 93,
   "id": "d8eafbb4",
   "metadata": {
    "scrolled": true
   },
   "outputs": [
    {
     "name": "stderr",
     "output_type": "stream",
     "text": [
      "\n",
      "0it [00:00, ?it/s]"
     ]
    },
    {
     "name": "stdout",
     "output_type": "stream",
     "text": [
      "+------------+----------------+\n",
      "| Outcome    |   phi(Outcome) |\n",
      "+============+================+\n",
      "| Outcome(0) |         0.8952 |\n",
      "+------------+----------------+\n",
      "| Outcome(1) |         0.1048 |\n",
      "+------------+----------------+\n"
     ]
    },
    {
     "name": "stderr",
     "output_type": "stream",
     "text": [
      "\n"
     ]
    }
   ],
   "source": [
    "values = ['1','2','1']\n",
    "fields = ['Pregnancies','Age','BMI']\n",
    "evidence_dict = dict(zip(fields,values))\n",
    "estimate_posterior(nb_model, evidence_dict)"
   ]
  },
  {
   "cell_type": "code",
   "execution_count": 94,
   "id": "794e5196",
   "metadata": {},
   "outputs": [
    {
     "name": "stderr",
     "output_type": "stream",
     "text": [
      "\n",
      "\u001b[A\n",
      "\u001b[A\n",
      "\n",
      "0it [00:00, ?it/s]\n",
      "Finding Elimination Order: : : 0it [00:16, ?it/s]\n",
      "Finding Elimination Order: : : 0it [00:03, ?it/s]\n",
      "Finding Elimination Order: : : 0it [00:00, ?it/s]"
     ]
    },
    {
     "name": "stdout",
     "output_type": "stream",
     "text": [
      "+------------+----------------+\n",
      "| Outcome    |   phi(Outcome) |\n",
      "+============+================+\n",
      "| Outcome(0) |         0.5234 |\n",
      "+------------+----------------+\n",
      "| Outcome(1) |         0.4766 |\n",
      "+------------+----------------+\n"
     ]
    },
    {
     "name": "stderr",
     "output_type": "stream",
     "text": [
      "\n"
     ]
    }
   ],
   "source": [
    "values = ['2','2','2']\n",
    "fields = ['Pregnancies','Age','BMI']\n",
    "evidence_dict = dict(zip(fields,values))\n",
    "estimate_posterior(nb_model, evidence_dict)"
   ]
  },
  {
   "cell_type": "code",
   "execution_count": 95,
   "id": "5df4fdf2",
   "metadata": {
    "scrolled": true
   },
   "outputs": [
    {
     "name": "stderr",
     "output_type": "stream",
     "text": [
      "0it [00:00, ?it/s]n Order: : : 0it [00:00, ?it/s]"
     ]
    },
    {
     "name": "stdout",
     "output_type": "stream",
     "text": [
      "+------------+----------------+\n",
      "| Outcome    |   phi(Outcome) |\n",
      "+============+================+\n",
      "| Outcome(0) |         0.5234 |\n",
      "+------------+----------------+\n",
      "| Outcome(1) |         0.4766 |\n",
      "+------------+----------------+\n"
     ]
    },
    {
     "name": "stderr",
     "output_type": "stream",
     "text": [
      "\n"
     ]
    }
   ],
   "source": [
    "values = ['2','2','2']\n",
    "fields = ['Pregnancies','Age','BMI']\n",
    "evidence_dict = dict(zip(fields,values))\n",
    "estimate_posterior(nb_model, evidence_dict)"
   ]
  },
  {
   "cell_type": "markdown",
   "id": "bf58a8e6",
   "metadata": {},
   "source": [
    "## 5b. Variable Elimination (Best Performing Bayes Net: Outcome Hierarchical Model)"
   ]
  },
  {
   "cell_type": "code",
   "execution_count": 96,
   "id": "e798a309",
   "metadata": {
    "scrolled": true
   },
   "outputs": [
    {
     "name": "stderr",
     "output_type": "stream",
     "text": [
      "Finding Elimination Order: : : 0it [19:30, ?it/s]\n",
      "Eliminating: Pregnancies: 100%|██████████| 4/4 [00:00<00:00, 277.52it/s]"
     ]
    },
    {
     "name": "stdout",
     "output_type": "stream",
     "text": [
      "+------------+----------------+\n",
      "| Outcome    |   phi(Outcome) |\n",
      "+============+================+\n",
      "| Outcome(0) |         0.6290 |\n",
      "+------------+----------------+\n",
      "| Outcome(1) |         0.3710 |\n",
      "+------------+----------------+\n"
     ]
    },
    {
     "name": "stderr",
     "output_type": "stream",
     "text": [
      "\n"
     ]
    }
   ],
   "source": [
    "infer = VariableElimination(outcome_hierarchical_model)\n",
    "posterior_p = infer.query([\"Outcome\"], evidence={\"BMI\": '1'\n",
    "                                                 , \"DiabetesPedigreeFunction\": '1'})\n",
    "print(posterior_p)"
   ]
  },
  {
   "cell_type": "code",
   "execution_count": 97,
   "id": "6fd093d5",
   "metadata": {},
   "outputs": [
    {
     "name": "stderr",
     "output_type": "stream",
     "text": [
      "Finding Elimination Order: : 100%|██████████| 4/4 [00:01<00:00,  2.12it/s]\n",
      "Eliminating: SkinThickness: 100%|██████████| 3/3 [00:00<00:00, 487.97it/s]"
     ]
    },
    {
     "name": "stdout",
     "output_type": "stream",
     "text": [
      "+------------+----------------+\n",
      "| Outcome    |   phi(Outcome) |\n",
      "+============+================+\n",
      "| Outcome(0) |         0.7888 |\n",
      "+------------+----------------+\n",
      "| Outcome(1) |         0.2112 |\n",
      "+------------+----------------+\n"
     ]
    },
    {
     "name": "stderr",
     "output_type": "stream",
     "text": [
      "\n"
     ]
    }
   ],
   "source": [
    "values = ['1','1','1']\n",
    "fields = ['Pregnancies','Age','BMI']\n",
    "evidence_dict = dict(zip(fields,values))\n",
    "estimate_posterior(outcome_hierarchical_model, evidence_dict)"
   ]
  },
  {
   "cell_type": "code",
   "execution_count": 98,
   "id": "b81dd6c1",
   "metadata": {
    "scrolled": false
   },
   "outputs": [
    {
     "name": "stderr",
     "output_type": "stream",
     "text": [
      "Finding Elimination Order: : 100%|██████████| 3/3 [00:03<00:00,  1.12s/it]\n",
      "Eliminating: SkinThickness: 100%|██████████| 3/3 [00:00<00:00, 494.81it/s]"
     ]
    },
    {
     "name": "stdout",
     "output_type": "stream",
     "text": [
      "+------------+----------------+\n",
      "| Outcome    |   phi(Outcome) |\n",
      "+============+================+\n",
      "| Outcome(0) |         0.5837 |\n",
      "+------------+----------------+\n",
      "| Outcome(1) |         0.4163 |\n",
      "+------------+----------------+\n"
     ]
    },
    {
     "name": "stderr",
     "output_type": "stream",
     "text": [
      "\n"
     ]
    }
   ],
   "source": [
    "values = ['2','1','1']\n",
    "fields = ['Pregnancies','Age','BMI']\n",
    "evidence_dict = dict(zip(fields,values))\n",
    "estimate_posterior(outcome_hierarchical_model, evidence_dict)"
   ]
  },
  {
   "cell_type": "code",
   "execution_count": 99,
   "id": "c05b6c91",
   "metadata": {},
   "outputs": [
    {
     "name": "stderr",
     "output_type": "stream",
     "text": [
      "Finding Elimination Order: : 100%|██████████| 3/3 [00:02<00:00,  1.35it/s]\n",
      "Eliminating: Pregnancies: 100%|██████████| 4/4 [00:00<00:00, 520.69it/s]"
     ]
    },
    {
     "name": "stdout",
     "output_type": "stream",
     "text": [
      "+------------+----------------+\n",
      "| Outcome    |   phi(Outcome) |\n",
      "+============+================+\n",
      "| Outcome(0) |         0.2065 |\n",
      "+------------+----------------+\n",
      "| Outcome(1) |         0.7935 |\n",
      "+------------+----------------+\n"
     ]
    },
    {
     "name": "stderr",
     "output_type": "stream",
     "text": [
      "\n"
     ]
    }
   ],
   "source": [
    "values = ['2','2','3']\n",
    "fields = ['BMI','Age','Glucose']\n",
    "evidence_dict = dict(zip(fields,values))\n",
    "estimate_posterior(outcome_hierarchical_model, evidence_dict)"
   ]
  },
  {
   "cell_type": "code",
   "execution_count": 100,
   "id": "9f7d3240",
   "metadata": {},
   "outputs": [
    {
     "name": "stderr",
     "output_type": "stream",
     "text": [
      "Finding Elimination Order: : 100%|██████████| 4/4 [00:03<00:00,  1.07it/s]\n",
      "Eliminating: Pregnancies: 100%|██████████| 4/4 [00:00<00:00, 479.16it/s]"
     ]
    },
    {
     "name": "stdout",
     "output_type": "stream",
     "text": [
      "+------------+----------------+\n",
      "| Outcome    |   phi(Outcome) |\n",
      "+============+================+\n",
      "| Outcome(0) |         0.8369 |\n",
      "+------------+----------------+\n",
      "| Outcome(1) |         0.1631 |\n",
      "+------------+----------------+\n"
     ]
    },
    {
     "name": "stderr",
     "output_type": "stream",
     "text": [
      "\n"
     ]
    }
   ],
   "source": [
    "values = ['1','2','1']\n",
    "fields = ['BMI','Age','Glucose']\n",
    "evidence_dict = dict(zip(fields,values))\n",
    "estimate_posterior(outcome_hierarchical_model, evidence_dict)"
   ]
  },
  {
   "cell_type": "markdown",
   "id": "5fc2310f",
   "metadata": {},
   "source": [
    "# 6. Markov Network "
   ]
  },
  {
   "cell_type": "markdown",
   "id": "0859a61b",
   "metadata": {},
   "source": [
    "Now, we will use Markov Networks (non-directed edges)"
   ]
  },
  {
   "cell_type": "markdown",
   "id": "2f29fdeb",
   "metadata": {},
   "source": [
    "## 6a. Construct the Markov Network"
   ]
  },
  {
   "cell_type": "code",
   "execution_count": 101,
   "id": "90f9039d",
   "metadata": {},
   "outputs": [],
   "source": [
    "G = MarkovNetwork()\n",
    "markov_model = MarkovNetwork([('Pregnancies', 'Outcome'), \n",
    "                          ('SkinThickness','Outcome'),\n",
    "                         ('BMI','Outcome'),\n",
    "                         ('Age','Outcome'),\n",
    "                         ('DiabetesPedigreeFunction','Outcome'), \n",
    "                         ('BloodPressure','Outcome'), \n",
    "                         ('Outcome','Insulin'), \n",
    "                         ('Outcome','Glucose')\n",
    "                        ])"
   ]
  },
  {
   "cell_type": "code",
   "execution_count": 102,
   "id": "893de6ed",
   "metadata": {},
   "outputs": [
    {
     "data": {
      "text/plain": [
       "(Pregnancies ⟂ SkinThickness, BloodPressure, Glucose, Age, BMI, Insulin, DiabetesPedigreeFunction | Outcome)\n",
       "(SkinThickness ⟂ Pregnancies, BloodPressure, Glucose, Age, BMI, Insulin, DiabetesPedigreeFunction | Outcome)\n",
       "(BMI ⟂ SkinThickness, Pregnancies, BloodPressure, Glucose, Age, Insulin, DiabetesPedigreeFunction | Outcome)\n",
       "(Age ⟂ SkinThickness, Pregnancies, BloodPressure, Glucose, BMI, Insulin, DiabetesPedigreeFunction | Outcome)\n",
       "(DiabetesPedigreeFunction ⟂ SkinThickness, Pregnancies, BloodPressure, Glucose, Age, BMI, Insulin | Outcome)\n",
       "(BloodPressure ⟂ SkinThickness, Pregnancies, Glucose, Age, BMI, Insulin, DiabetesPedigreeFunction | Outcome)\n",
       "(Insulin ⟂ SkinThickness, Pregnancies, BloodPressure, Glucose, Age, BMI, DiabetesPedigreeFunction | Outcome)\n",
       "(Glucose ⟂ SkinThickness, Pregnancies, BloodPressure, Age, BMI, Insulin, DiabetesPedigreeFunction | Outcome)"
      ]
     },
     "execution_count": 102,
     "metadata": {},
     "output_type": "execute_result"
    }
   ],
   "source": [
    "markov_model.get_local_independencies()"
   ]
  },
  {
   "cell_type": "markdown",
   "id": "73faca60",
   "metadata": {},
   "source": [
    "## 6b. Convert to a Bayesian Model "
   ]
  },
  {
   "cell_type": "code",
   "execution_count": 103,
   "id": "8a706d08",
   "metadata": {},
   "outputs": [],
   "source": [
    "bayesian_model = markov_model.to_bayesian_model()"
   ]
  },
  {
   "cell_type": "code",
   "execution_count": 106,
   "id": "8298697a",
   "metadata": {},
   "outputs": [
    {
     "name": "stderr",
     "output_type": "stream",
     "text": [
      "Finding Elimination Order: : 100%|██████████| 4/4 [00:17<00:00,  4.31s/it]\n"
     ]
    },
    {
     "data": {
      "image/png": "[encoded data removed]",
      "text/plain": [
       "<Figure size 432x288 with 1 Axes>"
      ]
     },
     "metadata": {},
     "output_type": "display_data"
    }
   ],
   "source": [
    "plot_network_markov(markov_model,'Outcome Hierarchical Markov Network')"
   ]
  },
  {
   "cell_type": "markdown",
   "id": "74a1ead1",
   "metadata": {},
   "source": [
    "## 6c. Create Junction Tree "
   ]
  },
  {
   "cell_type": "code",
   "execution_count": 107,
   "id": "44231099",
   "metadata": {},
   "outputs": [],
   "source": [
    "junction_tree = markov_model.to_junction_tree()"
   ]
  },
  {
   "cell_type": "code",
   "execution_count": 108,
   "id": "6342a139",
   "metadata": {},
   "outputs": [
    {
     "data": {
      "image/png": "[encoded data removed]",
      "text/plain": [
       "<Figure size 432x288 with 1 Axes>"
      ]
     },
     "metadata": {},
     "output_type": "display_data"
    }
   ],
   "source": [
    "plot_network_markov(junction_tree, 'Junction Tree from Markov Model')"
   ]
  },
  {
   "cell_type": "markdown",
   "id": "a7dc5aee",
   "metadata": {},
   "source": [
    "# 7. Inference using Belief Propagation"
   ]
  },
  {
   "cell_type": "code",
   "execution_count": 109,
   "id": "0d1f2528",
   "metadata": {},
   "outputs": [],
   "source": [
    "bp = BeliefPropagation(outcome_hierarchical_model)\n",
    "bp.calibrate()"
   ]
  },
  {
   "cell_type": "code",
   "execution_count": 110,
   "id": "034ea25f",
   "metadata": {},
   "outputs": [
    {
     "name": "stderr",
     "output_type": "stream",
     "text": [
      "Eliminating: DiabetesPedigreeFunction: 100%|██████████| 8/8 [00:00<00:00, 279.56it/s]\n"
     ]
    },
    {
     "data": {
      "text/plain": [
       "{'Outcome': 0}"
      ]
     },
     "execution_count": 110,
     "metadata": {},
     "output_type": "execute_result"
    }
   ],
   "source": [
    "bp.map_query(variables=['Outcome'])"
   ]
  },
  {
   "cell_type": "code",
   "execution_count": 111,
   "id": "9affe079",
   "metadata": {
    "scrolled": false
   },
   "outputs": [
    {
     "name": "stderr",
     "output_type": "stream",
     "text": [
      "Eliminating: Insulin: 100%|██████████| 7/7 [00:00<00:00, 643.69it/s]\n"
     ]
    },
    {
     "data": {
      "text/plain": [
       "{'Outcome': 1}"
      ]
     },
     "execution_count": 111,
     "metadata": {},
     "output_type": "execute_result"
    }
   ],
   "source": [
    "bp.map_query(variables=['Outcome'], evidence = {'DiabetesPedigreeFunction':'3'})"
   ]
  },
  {
   "cell_type": "code",
   "execution_count": 112,
   "id": "6689b0d1",
   "metadata": {
    "scrolled": false
   },
   "outputs": [
    {
     "name": "stderr",
     "output_type": "stream",
     "text": [
      "Eliminating: DiabetesPedigreeFunction: 100%|██████████| 5/5 [00:00<00:00, 1066.33it/s]\n"
     ]
    },
    {
     "data": {
      "text/plain": [
       "{'Outcome': 0}"
      ]
     },
     "execution_count": 112,
     "metadata": {},
     "output_type": "execute_result"
    }
   ],
   "source": [
    "bp.map_query(variables=['Outcome'], evidence = evidence_dict)"
   ]
  },
  {
   "cell_type": "code",
   "execution_count": 113,
   "id": "e40c2318",
   "metadata": {},
   "outputs": [
    {
     "data": {
      "text/plain": [
       "NodeView((('Outcome', 'Glucose'), ('Outcome', 'Insulin'), ('Outcome', 'SkinThickness', 'Pregnancies', 'BloodPressure', 'BMI', 'DiabetesPedigreeFunction', 'Age')))"
      ]
     },
     "execution_count": 113,
     "metadata": {},
     "output_type": "execute_result"
    }
   ],
   "source": [
    "bp.get_cliques()"
   ]
  },
  {
   "cell_type": "markdown",
   "id": "1d186d83",
   "metadata": {},
   "source": [
    "# 8. Markov Chain Monte Carlo (MCMC)"
   ]
  },
  {
   "cell_type": "markdown",
   "id": "f9e046bb",
   "metadata": {},
   "source": [
    "We will implement Markov Chain Monte Carlo to estimate parameters of a logistic regression model fit to the diabetes data. For this, we will use the original data frame with the continuous features, and not the discretized data frame. "
   ]
  },
  {
   "cell_type": "markdown",
   "id": "1d791e67",
   "metadata": {},
   "source": [
    "## 8a. Logistic Regression (for MCMC)"
   ]
  },
  {
   "cell_type": "code",
   "execution_count": 18,
   "id": "a4555e6b",
   "metadata": {},
   "outputs": [
    {
     "name": "stdout",
     "output_type": "stream",
     "text": [
      "No oversampling\n",
      "Test Data\n",
      "ROC Score: 0.8422338000651254\n",
      "Train Data\n",
      "ROC Score: 0.8388974201474201\n",
      "With oversampling\n",
      "Test Data\n",
      "ROC Score: 0.8434549006838163\n",
      "Train Data (Oversampled)\n",
      "ROC Score: 0.8273905604338843\n"
     ]
    }
   ],
   "source": [
    "logmodel = LogisticRegression(max_iter=300) \n",
    "X_train, X_over, X_test,  y_train, y_over, y_test = split_and_sample(continuous_df, continuous_features)\n",
    "\n",
    "print(\"No oversampling\")\n",
    "logmodel.fit(X_train, y_train)\n",
    "y_pred = logmodel.predict_proba(X_test)\n",
    "print(\"Test Data\")\n",
    "print(f\"ROC Score: {roc_auc_score(y_test, y_pred[:,1])}\")\n",
    "\n",
    "# train data \n",
    "print(\"Train Data\")\n",
    "y_pred = logmodel.predict_proba(X_train)\n",
    "print(f\"ROC Score: {roc_auc_score(y_train, y_pred[:,1])}\")\n",
    "\n",
    "# with oversampling \n",
    "print(\"With oversampling\")\n",
    "logmodel.fit(X_over, y_over)\n",
    "y_pred = logmodel.predict_proba(X_test)\n",
    "print(\"Test Data\")\n",
    "print(f\"ROC Score: {roc_auc_score(y_test, y_pred[:,1])}\")\n",
    "\n",
    "# over data \n",
    "print(\"Train Data (Oversampled)\")\n",
    "y_pred = logmodel.predict_proba(X_over)\n",
    "print(f\"ROC Score: {roc_auc_score(y_over, y_pred[:,1])}\")\n",
    "\n",
    "\n"
   ]
  },
  {
   "cell_type": "code",
   "execution_count": 19,
   "id": "c542f918",
   "metadata": {},
   "outputs": [],
   "source": [
    "X_train['intercept'] = np.ones((len(X_train),1))\n",
    "X_test['intercept'] = np.ones((len(X_test),1))"
   ]
  },
  {
   "cell_type": "code",
   "execution_count": 20,
   "id": "1d00de03",
   "metadata": {},
   "outputs": [
    {
     "name": "stdout",
     "output_type": "stream",
     "text": [
      "Optimization terminated successfully.\n",
      "         Current function value: 0.463734\n",
      "         Iterations 6\n",
      "Optimization terminated successfully.\n",
      "         Current function value: 0.463734\n",
      "         Iterations 6\n"
     ]
    },
    {
     "data": {
      "text/html": [
       "<table class=\"simpletable\">\n",
       "<caption>Logit Regression Results</caption>\n",
       "<tr>\n",
       "  <th>Dep. Variable:</th>        <td>Outcome</td>     <th>  No. Observations:  </th>  <td>   537</td>  \n",
       "</tr>\n",
       "<tr>\n",
       "  <th>Model:</th>                 <td>Logit</td>      <th>  Df Residuals:      </th>  <td>   528</td>  \n",
       "</tr>\n",
       "<tr>\n",
       "  <th>Method:</th>                 <td>MLE</td>       <th>  Df Model:          </th>  <td>     8</td>  \n",
       "</tr>\n",
       "<tr>\n",
       "  <th>Date:</th>            <td>Sun, 01 May 2022</td> <th>  Pseudo R-squ.:     </th>  <td>0.2799</td>  \n",
       "</tr>\n",
       "<tr>\n",
       "  <th>Time:</th>                <td>12:07:01</td>     <th>  Log-Likelihood:    </th> <td> -249.03</td> \n",
       "</tr>\n",
       "<tr>\n",
       "  <th>converged:</th>             <td>True</td>       <th>  LL-Null:           </th> <td> -345.82</td> \n",
       "</tr>\n",
       "<tr>\n",
       "  <th>Covariance Type:</th>     <td>nonrobust</td>    <th>  LLR p-value:       </th> <td>1.435e-37</td>\n",
       "</tr>\n",
       "</table>\n",
       "<table class=\"simpletable\">\n",
       "<tr>\n",
       "              <td></td>                <th>coef</th>     <th>std err</th>      <th>z</th>      <th>P>|z|</th>  <th>[0.025</th>    <th>0.975]</th>  \n",
       "</tr>\n",
       "<tr>\n",
       "  <th>Pregnancies</th>              <td>    0.1373</td> <td>    0.039</td> <td>    3.479</td> <td> 0.001</td> <td>    0.060</td> <td>    0.215</td>\n",
       "</tr>\n",
       "<tr>\n",
       "  <th>Glucose</th>                  <td>    0.0362</td> <td>    0.004</td> <td>    8.135</td> <td> 0.000</td> <td>    0.027</td> <td>    0.045</td>\n",
       "</tr>\n",
       "<tr>\n",
       "  <th>BloodPressure</th>            <td>   -0.0068</td> <td>    0.010</td> <td>   -0.667</td> <td> 0.505</td> <td>   -0.027</td> <td>    0.013</td>\n",
       "</tr>\n",
       "<tr>\n",
       "  <th>SkinThickness</th>            <td>    0.0018</td> <td>    0.012</td> <td>    0.147</td> <td> 0.883</td> <td>   -0.022</td> <td>    0.026</td>\n",
       "</tr>\n",
       "<tr>\n",
       "  <th>Insulin</th>                  <td>   -0.0008</td> <td>    0.001</td> <td>   -0.790</td> <td> 0.430</td> <td>   -0.003</td> <td>    0.001</td>\n",
       "</tr>\n",
       "<tr>\n",
       "  <th>BMI</th>                      <td>    0.0920</td> <td>    0.020</td> <td>    4.495</td> <td> 0.000</td> <td>    0.052</td> <td>    0.132</td>\n",
       "</tr>\n",
       "<tr>\n",
       "  <th>DiabetesPedigreeFunction</th> <td>    1.2384</td> <td>    0.377</td> <td>    3.283</td> <td> 0.001</td> <td>    0.499</td> <td>    1.978</td>\n",
       "</tr>\n",
       "<tr>\n",
       "  <th>Age</th>                      <td>    0.0127</td> <td>    0.012</td> <td>    1.095</td> <td> 0.273</td> <td>   -0.010</td> <td>    0.035</td>\n",
       "</tr>\n",
       "<tr>\n",
       "  <th>intercept</th>                <td>   -9.1857</td> <td>    0.974</td> <td>   -9.436</td> <td> 0.000</td> <td>  -11.094</td> <td>   -7.278</td>\n",
       "</tr>\n",
       "</table>"
      ],
      "text/plain": [
       "<class 'statsmodels.iolib.summary.Summary'>\n",
       "\"\"\"\n",
       "                           Logit Regression Results                           \n",
       "==============================================================================\n",
       "Dep. Variable:                Outcome   No. Observations:                  537\n",
       "Model:                          Logit   Df Residuals:                      528\n",
       "Method:                           MLE   Df Model:                            8\n",
       "Date:                Sun, 01 May 2022   Pseudo R-squ.:                  0.2799\n",
       "Time:                        12:07:01   Log-Likelihood:                -249.03\n",
       "converged:                       True   LL-Null:                       -345.82\n",
       "Covariance Type:            nonrobust   LLR p-value:                 1.435e-37\n",
       "============================================================================================\n",
       "                               coef    std err          z      P>|z|      [0.025      0.975]\n",
       "--------------------------------------------------------------------------------------------\n",
       "Pregnancies                  0.1373      0.039      3.479      0.001       0.060       0.215\n",
       "Glucose                      0.0362      0.004      8.135      0.000       0.027       0.045\n",
       "BloodPressure               -0.0068      0.010     -0.667      0.505      -0.027       0.013\n",
       "SkinThickness                0.0018      0.012      0.147      0.883      -0.022       0.026\n",
       "Insulin                     -0.0008      0.001     -0.790      0.430      -0.003       0.001\n",
       "BMI                          0.0920      0.020      4.495      0.000       0.052       0.132\n",
       "DiabetesPedigreeFunction     1.2384      0.377      3.283      0.001       0.499       1.978\n",
       "Age                          0.0127      0.012      1.095      0.273      -0.010       0.035\n",
       "intercept                   -9.1857      0.974     -9.436      0.000     -11.094      -7.278\n",
       "============================================================================================\n",
       "\"\"\""
      ]
     },
     "execution_count": 20,
     "metadata": {},
     "output_type": "execute_result"
    }
   ],
   "source": [
    "smlog = sm.Logit(y_train,X_train) # with intercept\n",
    "smlog.fit()\n",
    "smlog.fit().summary()"
   ]
  },
  {
   "cell_type": "markdown",
   "id": "00008850",
   "metadata": {},
   "source": [
    "## 8b. Apply MCMC "
   ]
  },
  {
   "cell_type": "markdown",
   "id": "4e082a58",
   "metadata": {},
   "source": [
    "This section of the project leveraged an online tutorial for how to implement MCMC on a logistic regression model in Python: <br>\n",
    "https://github.com/WillKoehrsen/ai-projects/blob/master/markov_chain_monte_carlo/markov_chain_monte_carlo.ipynb <br>\n",
    "\n",
    "For simplicitly, we will estimate the highest contribution parameter based on the initial logistic regression model, which is `DiabetesPedigreeFunction`, as B1, as well as the `Intercept` (alpha). Future work can expand on this by estimating the other model parameters."
   ]
  },
  {
   "cell_type": "code",
   "execution_count": 21,
   "id": "3c9f7c27",
   "metadata": {},
   "outputs": [],
   "source": [
    "# pandas and numpy for data manipulation\n",
    "import pandas as pd\n",
    "import numpy as np\n",
    "\n",
    "# scipy for algorithms\n",
    "import scipy\n",
    "from scipy import stats\n",
    "\n",
    "# pymc3 for Bayesian Inference, pymc built on t\n",
    "import pymc3 as pm\n",
    "import theano.tensor as tt\n",
    "import scipy\n",
    "from scipy import optimize\n",
    "\n",
    "# matplotlib for plotting\n",
    "import matplotlib.pyplot as plt"
   ]
  },
  {
   "cell_type": "code",
   "execution_count": 22,
   "id": "f37b67bc",
   "metadata": {},
   "outputs": [],
   "source": [
    "mcmc_data = continuous_df['DiabetesPedigreeFunction']\n",
    "observations = np.array(continuous_df['Outcome'])"
   ]
  },
  {
   "cell_type": "code",
   "execution_count": 24,
   "id": "df20adeb",
   "metadata": {},
   "outputs": [
    {
     "name": "stderr",
     "output_type": "stream",
     "text": [
      "/var/folders/5b/097q004j6y931y58xbtf2n280000gn/T/ipykernel_59242/2678411567.py:18: FutureWarning: In v4.0, pm.sample will return an `arviz.InferenceData` object instead of a `MultiTrace` by default. You can pass return_inferencedata=True or return_inferencedata=False to be safe and silence this warning.\n",
      "  diabetes_trace = pm.sample(N_SAMPLES, step=step);\n",
      "Multiprocess sampling (4 chains in 4 jobs)\n",
      "CompoundStep\n",
      ">Metropolis: [b1]\n",
      ">Metropolis: [alpha]\n"
     ]
    },
    {
     "data": {
      "text/html": [
       "\n",
       "    <div>\n",
       "        <style>\n",
       "            /* Turns off some styling */\n",
       "            progress {\n",
       "                /* gets rid of default border in Firefox and Opera. */\n",
       "                border: none;\n",
       "                /* Needs to be in here for Safari polyfill so background images work as expected. */\n",
       "                background-size: auto;\n",
       "            }\n",
       "            .progress-bar-interrupted, .progress-bar-interrupted::-webkit-progress-bar {\n",
       "                background: #F44336;\n",
       "            }\n",
       "        </style>\n",
       "      <progress value='24000' class='' max='24000' style='width:300px; height:20px; vertical-align: middle;'></progress>\n",
       "      100.00% [24000/24000 00:04<00:00 Sampling 4 chains, 0 divergences]\n",
       "    </div>\n",
       "    "
      ],
      "text/plain": [
       "<IPython.core.display.HTML object>"
      ]
     },
     "metadata": {},
     "output_type": "display_data"
    },
    {
     "name": "stderr",
     "output_type": "stream",
     "text": [
      "Sampling 4 chains for 1_000 tune and 5_000 draw iterations (4_000 + 20_000 draws total) took 20 seconds.\n",
      "The number of effective samples is smaller than 10% for some parameters.\n"
     ]
    }
   ],
   "source": [
    "N_SAMPLES = 5000\n",
    "with pm.Model() as diabetes_model:\n",
    "    # Create the alpha and beta parameters (based on initial regression model)\n",
    "    alpha = pm.Normal('alpha', mu=-9.1857, tau=0.974, testval=0.0)\n",
    "    b1 = pm.Normal('b1', mu=1.2384, tau=0.377, testval=0.0)\n",
    "    \n",
    "    # Create the probability from the logistic function\n",
    "    \n",
    "    p = pm.Deterministic('p', 1. / (1. + tt.exp(b1 * mcmc_data + alpha)))\n",
    "    \n",
    "    # Create the bernoulli parameter which uses the observed dat\n",
    "    observed = pm.Bernoulli('obs', p, observed=observations)   \n",
    "    \n",
    "    # Using Metropolis Hastings Sampling\n",
    "    step = pm.Metropolis()\n",
    "    \n",
    "    # Sample from the posterior using the sampling method\n",
    "    diabetes_trace = pm.sample(N_SAMPLES, step=step);"
   ]
  },
  {
   "cell_type": "code",
   "execution_count": 25,
   "id": "c4e8dbbb",
   "metadata": {},
   "outputs": [],
   "source": [
    "# Extract the alpha and beta samples\n",
    "alpha_samples = diabetes_trace[\"alpha\"][5000:, None]\n",
    "beta_samples = diabetes_trace[\"b1\"][5000:, None]"
   ]
  },
  {
   "cell_type": "code",
   "execution_count": 26,
   "id": "4368a30e",
   "metadata": {},
   "outputs": [
    {
     "name": "stdout",
     "output_type": "stream",
     "text": [
      "Alpha Estimate: 0.945640388832786 Beta Estimate -0.7871913186662199\n"
     ]
    }
   ],
   "source": [
    "# Time values for probability prediction\n",
    "ped_est = np.linspace(mcmc_data.min()- 0.5, mcmc_data.max() + 0.5)[:, None]\n",
    "\n",
    "# Take most likely parameters to be mean values\n",
    "alpha_est = alpha_samples.mean()\n",
    "beta_est = beta_samples.mean()\n",
    "\n",
    "# Probability at each time using mean values of alpha and beta\n",
    "diabetes_est = logistic(ped_est, beta=beta_est, alpha=alpha_est)\n",
    "\n",
    "print(f\"Alpha Estimate: {alpha_est} \\b Beta Estimate {beta_est}\")"
   ]
  },
  {
   "cell_type": "code",
   "execution_count": 27,
   "id": "3030c971",
   "metadata": {},
   "outputs": [
    {
     "data": {
      "text/plain": [
       "{'whiskers': [<matplotlib.lines.Line2D at 0x7fb05985afa0>,\n",
       "  <matplotlib.lines.Line2D at 0x7fb059824fd0>],\n",
       " 'caps': [<matplotlib.lines.Line2D at 0x7fb0598530a0>,\n",
       "  <matplotlib.lines.Line2D at 0x7fb059853970>],\n",
       " 'boxes': [<matplotlib.lines.Line2D at 0x7fb05985ab20>],\n",
       " 'medians': [<matplotlib.lines.Line2D at 0x7fb059853b20>],\n",
       " 'fliers': [<matplotlib.lines.Line2D at 0x7fb06dd57490>],\n",
       " 'means': []}"
      ]
     },
     "execution_count": 27,
     "metadata": {},
     "output_type": "execute_result"
    },
    {
     "data": {
      "image/png": "[encoded data removed]",
      "text/plain": [
       "<Figure size 432x288 with 1 Axes>"
      ]
     },
     "metadata": {
      "needs_background": "light"
     },
     "output_type": "display_data"
    }
   ],
   "source": [
    "plt.boxplot(diabetes_est)"
   ]
  },
  {
   "cell_type": "code",
   "execution_count": 28,
   "id": "cb6cfc8e",
   "metadata": {},
   "outputs": [
    {
     "data": {
      "image/png": "[encoded data removed]",
      "text/plain": [
       "<Figure size 432x288 with 1 Axes>"
      ]
     },
     "metadata": {
      "needs_background": "light"
     },
     "output_type": "display_data"
    }
   ],
   "source": [
    "plt.plot(ped_est, diabetes_est, color = 'navy', \n",
    "         lw=3, label=\"Most Likely Logistic Model\")\n",
    "plt.scatter(mcmc_data, observations, edgecolor = 'slateblue',\n",
    "            s=50, alpha=0.2, label='obs')\n",
    "plt.title(f'Probability Distribution for Diabetes with {N_SAMPLES} Samples');\n",
    "plt.legend(prop={'size':18})\n",
    "plt.ylabel('Probability')\n",
    "plt.xlabel('DiabetesPedigreeFunction');"
   ]
  },
  {
   "cell_type": "code",
   "execution_count": 31,
   "id": "c8ab7114",
   "metadata": {},
   "outputs": [
    {
     "data": {
      "image/png": "[encoded data removed]",
      "text/plain": [
       "<Figure size 432x288 with 1 Axes>"
      ]
     },
     "metadata": {
      "needs_background": "light"
     },
     "output_type": "display_data"
    },
    {
     "data": {
      "image/png": "[encoded data removed]",
      "text/plain": [
       "<Figure size 432x288 with 1 Axes>"
      ]
     },
     "metadata": {
      "needs_background": "light"
     },
     "output_type": "display_data"
    }
   ],
   "source": [
    "sample_list = [alpha_samples, beta_samples]\n",
    "for sample in sample_list: \n",
    "    plot_samples(sample)"
   ]
  }
 ],
 "metadata": {
  "kernelspec": {
   "display_name": "Python 3",
   "language": "python",
   "name": "python3"
  },
  "language_info": {
   "codemirror_mode": {
    "name": "ipython",
    "version": 3
   },
   "file_extension": ".py",
   "mimetype": "text/x-python",
   "name": "python",
   "nbconvert_exporter": "python",
   "pygments_lexer": "ipython3",
   "version": "3.8.10"
  }
 },
 "nbformat": 4,
 "nbformat_minor": 5
}
